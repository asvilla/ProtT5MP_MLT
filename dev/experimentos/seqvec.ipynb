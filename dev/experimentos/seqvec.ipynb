{
 "cells": [
  {
   "cell_type": "markdown",
   "metadata": {
    "id": "GqrK8zLWryhu"
   },
   "source": [
    "**Embeddings que tenemos**\n",
    "* Secuencia\n",
    "  * seqvec\n",
    "  * ProtT5\n",
    "  * ProtBERT\n",
    "* Estructura\n",
    "  * Prost5\n",
    "\n",
    "**Combinaciones que probaremos**\n",
    "1. seqvec\n",
    "2. ProtT5\n",
    "3. ProtBERT\n",
    "4. Prost5\n",
    "5. Prost5 - seqvec\n",
    "6. Prost5 -ProtT5\n",
    "7. Prost5 -ProtBERT\n",
    "\n",
    "**Algoritmos que usaremos**\n",
    "\n",
    "1. SVR\n",
    "2. RF\n",
    "3. Red neuronal\n",
    "  * 3-4 capas densas\n",
    "4. XGBOOST\n",
    "5. light \n",
    "\n",
    "En este archivo se está llevando a cabo esta combinación:\n",
    "\n",
    " 5. Prost5 - seqvec"
   ]
  },
  {
   "cell_type": "code",
   "execution_count": 1,
   "metadata": {
    "colab": {
     "base_uri": "https://localhost:8080/",
     "height": 383
    },
    "id": "DpH8HRwvASlF",
    "outputId": "c114023e-cf81-4f0d-b087-a63e61ef9f00"
   },
   "outputs": [
    {
     "name": "stderr",
     "output_type": "stream",
     "text": [
      "2025-05-11 16:08:36.299933: I tensorflow/core/util/port.cc:110] oneDNN custom operations are on. You may see slightly different numerical results due to floating-point round-off errors from different computation orders. To turn them off, set the environment variable `TF_ENABLE_ONEDNN_OPTS=0`.\n",
      "2025-05-11 16:08:36.341964: I tensorflow/core/platform/cpu_feature_guard.cc:182] This TensorFlow binary is optimized to use available CPU instructions in performance-critical operations.\n",
      "To enable the following instructions: AVX2 AVX_VNNI FMA, in other operations, rebuild TensorFlow with the appropriate compiler flags.\n",
      "2025-05-11 16:08:37.004105: W tensorflow/compiler/tf2tensorrt/utils/py_utils.cc:38] TF-TRT Warning: Could not find TensorRT\n"
     ]
    },
    {
     "name": "stdout",
     "output_type": "stream",
     "text": [
      "loaded\n"
     ]
    }
   ],
   "source": [
    "##pip install xgboost tensorflow lightgbm\n",
    "##pip install seaborn\n",
    "import numpy as np\n",
    "import pandas as pd\n",
    "import os\n",
    "from Bio import SeqIO\n",
    "import random\n",
    "import timeit\n",
    "import torch\n",
    "import xgboost\n",
    "import tensorflow\n",
    "import lightgbm\n",
    "import copy \n",
    "import openpyxl\n",
    "\n",
    "\n",
    "from sklearn.preprocessing import StandardScaler\n",
    "from sklearn.pipeline import Pipeline\n",
    "from sklearn.metrics import mean_squared_error, mean_absolute_error, r2_score\n",
    "import torch\n",
    "from torch.utils.data import Dataset\n",
    "from torch.utils.data import DataLoader\n",
    "import torch.nn as nn\n",
    "import torch.optim as optim\n",
    "import time\n",
    "\n",
    "\n",
    "# Regressors\n",
    "from sklearn.svm import SVR\n",
    "from sklearn.ensemble import RandomForestRegressor\n",
    "from xgboost import XGBRegressor\n",
    "from tensorflow.keras.models import Sequential\n",
    "from tensorflow.keras.layers import Dense, Dropout, BatchNormalization\n",
    "from tensorflow.keras.optimizers import Adam\n",
    "from lightgbm import LGBMRegressor\n",
    "from sklearn.decomposition import PCA\n",
    "\n",
    "# Métricas de regresión\n",
    "from sklearn.metrics import mean_absolute_error, mean_squared_error, r2_score\n",
    "\n",
    "# Otras utilidades\n",
    "from pandas import DataFrame\n",
    "import matplotlib.pyplot as plt\n",
    "print(\"loaded\")"
   ]
  },
  {
   "cell_type": "code",
   "execution_count": 2,
   "metadata": {
    "id": "_9Np6k9mrwUs"
   },
   "outputs": [
    {
     "name": "stdout",
     "output_type": "stream",
     "text": [
      "<class 'pandas.core.frame.DataFrame'>\n",
      "RangeIndex: 28743 entries, 0 to 28742\n",
      "Data columns (total 7 columns):\n",
      " #   Column           Non-Null Count  Dtype  \n",
      "---  ------           --------------  -----  \n",
      " 0   Protein_ID       28743 non-null  object \n",
      " 1   Sequence         28743 non-null  object \n",
      " 2   Sequence_Length  28743 non-null  int64  \n",
      " 3   Type             28743 non-null  object \n",
      " 4   Tm               28743 non-null  float64\n",
      " 5   PDB_Path         28743 non-null  object \n",
      " 6   Unique_ID        28743 non-null  object \n",
      "dtypes: float64(1), int64(1), object(5)\n",
      "memory usage: 1.5+ MB\n",
      "Train:\n",
      "None\n",
      "<class 'pandas.core.frame.DataFrame'>\n",
      "RangeIndex: 513 entries, 0 to 512\n",
      "Data columns (total 7 columns):\n",
      " #   Column           Non-Null Count  Dtype  \n",
      "---  ------           --------------  -----  \n",
      " 0   Protein_ID       513 non-null    object \n",
      " 1   Sequence         513 non-null    object \n",
      " 2   Sequence_Length  513 non-null    int64  \n",
      " 3   Type             513 non-null    object \n",
      " 4   Tm               513 non-null    float64\n",
      " 5   PDB_Path         513 non-null    object \n",
      " 6   Unique_ID        513 non-null    object \n",
      "dtypes: float64(1), int64(1), object(5)\n",
      "memory usage: 28.2+ KB\n",
      "Validation:\n",
      "None\n",
      "<class 'pandas.core.frame.DataFrame'>\n",
      "RangeIndex: 523 entries, 0 to 522\n",
      "Data columns (total 7 columns):\n",
      " #   Column           Non-Null Count  Dtype  \n",
      "---  ------           --------------  -----  \n",
      " 0   Protein_ID       523 non-null    object \n",
      " 1   Sequence         523 non-null    object \n",
      " 2   Sequence_Length  523 non-null    int64  \n",
      " 3   Type             523 non-null    object \n",
      " 4   Tm               523 non-null    float64\n",
      " 5   PDB_Path         523 non-null    object \n",
      " 6   Unique_ID        523 non-null    object \n",
      "dtypes: float64(1), int64(1), object(5)\n",
      "memory usage: 28.7+ KB\n",
      "Test:\n",
      "None\n"
     ]
    }
   ],
   "source": [
    "# Ruta base\n",
    "base_dir = \"/home/sis.virtual.uniandes.edu.co/as.villa/proyecto\"\n",
    "\n",
    "# 1. Carga las tablas con IDs y TM-scores\n",
    "df_train = pd.read_csv(os.path.join(base_dir, \"data/preprocessed_data/train_preprocessed.txt\"))\n",
    "df_val   = pd.read_csv(os.path.join(base_dir, \"data/preprocessed_data/val_preprocessed.txt\"))\n",
    "df_test  = pd.read_csv(os.path.join(base_dir, \"data/preprocessed_data/test_preprocessed.txt\"))\n",
    "\n",
    "# 2. Directorios de embeddings\n",
    "seq1_dirs = {\n",
    "    \"train\": os.path.join(base_dir, \"embeddings/seqvec/train\"),##modificar para otras combinaciones\n",
    "    \"val\":   os.path.join(base_dir, \"embeddings/seqvec/val\"),\n",
    "    \"test\":  os.path.join(base_dir, \"embeddings/seqvec/test\")\n",
    "}\n",
    "\n",
    "#seq2_dirs = {\n",
    "#    \"train\": os.path.join(base_dir, \"embeddings/structure_embeddings/train\"),##modificar para otras combinaciones\n",
    "#    \"val\":   os.path.join(base_dir, \"embeddings/structure_embeddings/val\"),\n",
    "#    \"test\":  os.path.join(base_dir, \"embeddings/structure_embeddings/test\")\n",
    "#}\n",
    "\n",
    "\n",
    "print(\"Train:\", df_train.info(), sep=\"\\n\")\n",
    "print(\"Validation:\", df_val.info(), sep=\"\\n\")\n",
    "print(\"Test:\", df_test.info(), sep=\"\\n\")"
   ]
  },
  {
   "cell_type": "code",
   "execution_count": 5,
   "metadata": {
    "id": "inqbQ4-qAWju"
   },
   "outputs": [],
   "source": [
    "def cargar_embeddings_seq1(df, seq1_dirs):\n",
    "    seq_data = []\n",
    "    tm_values = []\n",
    "\n",
    "    for _, row in df.iterrows():\n",
    "        pid = row[\"Protein_ID\"] #3 modificar para otros\n",
    "        uid =row[\"Unique_ID\"]\n",
    "        tm = row[\"Tm\"]\n",
    "\n",
    "        seq1_path = os.path.join(seq1_dirs, f\"{uid}_seqvec.npy\") ####3modificar para otros\n",
    "\n",
    "        try:\n",
    "            seq1 = np.load(seq1_path)\n",
    "            seq_data.append(seq1)\n",
    "            tm_values.append(tm)\n",
    "\n",
    "        except Exception as e:\n",
    "            print(f\"[ERROR] No se pudo procesar {uid}: {e}\")\n",
    "\n",
    "    X = np.array(seq_data)\n",
    "    y = np.array(tm_values, dtype=float)\n",
    "\n",
    "    return X, y\n",
    "\n"
   ]
  },
  {
   "cell_type": "code",
   "execution_count": 6,
   "metadata": {
    "id": "oH60LLY6pSlA",
    "outputId": "94ec99f6-07ca-4a91-a4a8-4824243a7992",
    "scrolled": true
   },
   "outputs": [
    {
     "name": "stdout",
     "output_type": "stream",
     "text": [
      "Train: (28743, 1024) (28743,)\n",
      "Val: (513, 1024) (513,)\n",
      "Test: (523, 1024) (523,)\n",
      "Train y val: (29256, 1024) (29256,)\n"
     ]
    }
   ],
   "source": [
    "# Cargar train\n",
    "X_train_og, y_train = cargar_embeddings_seq1(df_train, seq1_dirs[\"train\"])\n",
    "\n",
    "# Cargar val\n",
    "X_val_og, y_val = cargar_embeddings_seq1(df_val, seq1_dirs[\"val\"])\n",
    "\n",
    "# Cargar test\n",
    "X_test_og, y_test = cargar_embeddings_seq1(df_test, seq1_dirs[\"test\"])\n",
    "\n",
    "# Unir train y val para unos casos\n",
    "X_trainval_og = np.concatenate([X_train_og, X_val_og])\n",
    "y_trainval = np.concatenate([y_train, y_val])\n",
    "\n",
    "# Verifica formas\n",
    "print(\"Train:\", X_train_og.shape, y_train.shape)\n",
    "print(\"Val:\", X_val_og.shape, y_val.shape)\n",
    "print(\"Test:\", X_test_og.shape, y_test.shape)\n",
    "print(\"Train y val:\", X_trainval_og.shape, y_trainval.shape)\n"
   ]
  },
  {
   "cell_type": "markdown",
   "metadata": {},
   "source": [
    "Normalización"
   ]
  },
  {
   "cell_type": "code",
   "execution_count": 7,
   "metadata": {},
   "outputs": [],
   "source": [
    "scaler = StandardScaler()\n",
    "scaler.fit(X_train_og)  # solo entrenamiento\n",
    "\n",
    "X_train = scaler.transform(X_train_og)\n",
    "X_val = scaler.transform(X_val_og)\n",
    "X_test = scaler.transform(X_test_og)\n",
    "X_trainval = scaler.transform(X_trainval_og)\n"
   ]
  },
  {
   "cell_type": "markdown",
   "metadata": {},
   "source": [
    "#### Data loader para la red neuronal"
   ]
  },
  {
   "cell_type": "code",
   "execution_count": 8,
   "metadata": {},
   "outputs": [],
   "source": [
    "from torch.utils.data import Dataset\n",
    "import numpy as np\n",
    "import os\n",
    "\n",
    "class ProteinTmDatasetSeq1(Dataset):\n",
    "    def __init__(self, df, seq1_dir, transform=None):\n",
    "        \"\"\"\n",
    "        df: DataFrame con columnas 'Unique_ID' y 'Tm'\n",
    "        seq1_dir: directorio donde están los archivos \n",
    "        \"\"\"\n",
    "        self.df = df.reset_index(drop=True)\n",
    "        self.seq1_dir = seq1_dir\n",
    "        self.transform = transform\n",
    "\n",
    "    def __len__(self):\n",
    "        return len(self.df)\n",
    "\n",
    "    def __getitem__(self, idx):\n",
    "        row = self.df.iloc[idx]\n",
    "        uid = row[\"Unique_ID\"]\n",
    "        tm = row[\"Tm\"]\n",
    "\n",
    "        # Cargar solo seq1\n",
    "        seq1 = np.load(os.path.join(self.seq1_dir, f\"{uid}_seqvec.npy\")).astype(np.float32)\n",
    "\n",
    "        if self.transform:\n",
    "            seq1 = self.transform(seq1)\n",
    "\n",
    "        return seq1, np.float32(tm)\n",
    "\n",
    " "
   ]
  },
  {
   "cell_type": "code",
   "execution_count": 9,
   "metadata": {},
   "outputs": [],
   "source": [
    "# Supongamos que ya tienes df_train, df_val, df_test y los dicts seq1_dirs, seq2_dirs\n",
    "train_ds = ProteinTmDatasetSeq1(df_train, seq1_dirs[\"train\"])\n",
    "val_ds = ProteinTmDatasetSeq1(df_val, seq1_dirs[\"val\"])\n",
    "test_ds = ProteinTmDatasetSeq1(df_test, seq1_dirs[\"test\"])\n",
    "\n",
    "\n",
    "train_loader = DataLoader(train_ds, batch_size=32, shuffle=True,  num_workers=4, pin_memory=True)\n",
    "val_loader   = DataLoader(val_ds,   batch_size=32, shuffle=False, num_workers=4, pin_memory=True)\n",
    "test_loader  = DataLoader(test_ds,  batch_size=32, shuffle=False, num_workers=4, pin_memory=True)\n"
   ]
  },
  {
   "cell_type": "markdown",
   "metadata": {
    "id": "yORX3Ce4usVN"
   },
   "source": [
    "## SVR"
   ]
  },
  {
   "cell_type": "code",
   "execution_count": 10,
   "metadata": {
    "id": "ebVodkvCpSlB"
   },
   "outputs": [
    {
     "name": "stdout",
     "output_type": "stream",
     "text": [
      "SVR entrenado con C=10, epsilon=0.03, kernel=rbf\n",
      "MSE: 81.8732, MAE: 7.1709, R²: 0.7205, Tiempo: 136.53 s\n"
     ]
    }
   ],
   "source": [
    "## SVR Buscar mejores hiperparametros\n",
    "\n",
    "def entrenar_svr(X_train, y_train, X_val, y_val, C=10, epsilon=0.03, kernel='rbf'): ###MOD SI NEC\n",
    "    # Pipeline:  PCA (90%) + SVR\n",
    "    pipeline = Pipeline([\n",
    "        (\"pca\", PCA(n_components=0.90)),\n",
    "        (\"svr\", SVR(C=C, epsilon=epsilon, kernel=kernel))\n",
    "    ])\n",
    "\n",
    "    start = timeit.default_timer()\n",
    "\n",
    "    # Entrenar modelo\n",
    "    pipeline.fit(X_train, y_train)\n",
    "\n",
    "    # Predecir\n",
    "    y_pred = pipeline.predict(X_val)\n",
    "\n",
    "    stop = timeit.default_timer()\n",
    "    elapsed = stop - start\n",
    "\n",
    "    # Métricas\n",
    "    mse = mean_squared_error(y_val, y_pred)\n",
    "    mae = mean_absolute_error(y_val, y_pred)\n",
    "    r2 = r2_score(y_val, y_pred)\n",
    "\n",
    "    print(f\"SVR entrenado con C={C}, epsilon={epsilon}, kernel={kernel}\")\n",
    "    print(f\"MSE: {mse:.4f}, MAE: {mae:.4f}, R²: {r2:.4f}, Tiempo: {elapsed:.2f} s\")\n",
    "\n",
    "    return pipeline, [mse, mae, r2, elapsed]\n",
    "\n",
    "\n",
    "modelo_svr, resultados_svr = entrenar_svr(X_trainval, y_trainval, X_test, y_test)"
   ]
  },
  {
   "cell_type": "markdown",
   "metadata": {},
   "source": [
    "## RF REGRESSOR"
   ]
  },
  {
   "cell_type": "code",
   "execution_count": 11,
   "metadata": {},
   "outputs": [
    {
     "name": "stdout",
     "output_type": "stream",
     "text": [
      "RandomForest entrenado con n_estimators=200, max_depth=25\n",
      "MSE: 103.0710, MAE: 8.1939, R²: 0.6481, Tiempo: 275.86 s\n"
     ]
    }
   ],
   "source": [
    "##RF\n",
    "def entrenar_rf(X_train, y_train, X_val, y_val,\n",
    "                n_estimators, max_depth,\n",
    "                min_samples_split, min_samples_leaf): ##MOD HP\n",
    "    pipeline = Pipeline([\n",
    "        (\"rf\", RandomForestRegressor(\n",
    "            n_estimators=n_estimators,\n",
    "            max_depth=max_depth,\n",
    "            min_samples_split=min_samples_split,\n",
    "            min_samples_leaf=min_samples_leaf,\n",
    "            n_jobs=-1,\n",
    "            random_state=42\n",
    "        ))\n",
    "    ])\n",
    "\n",
    "    start = timeit.default_timer()\n",
    "\n",
    "    pipeline.fit(X_train, y_train)\n",
    "    y_pred = pipeline.predict(X_val)\n",
    "\n",
    "    stop = timeit.default_timer()\n",
    "    elapsed = stop - start\n",
    "\n",
    "    mse = mean_squared_error(y_val, y_pred)\n",
    "    mae = mean_absolute_error(y_val, y_pred)\n",
    "    r2 = r2_score(y_val, y_pred)\n",
    "\n",
    "    print(f\"RandomForest entrenado con n_estimators={n_estimators}, max_depth={max_depth}\")\n",
    "    print(f\"MSE: {mse:.4f}, MAE: {mae:.4f}, R²: {r2:.4f}, Tiempo: {elapsed:.2f} s\")\n",
    "\n",
    "    return pipeline, [mse, mae, r2, elapsed]\n",
    "\n",
    "n_estimators = 200            # Más árboles ayudan con la estabilidad (200 es buen compromiso)\n",
    "max_depth = 25                # Profundidad razonable para evitar sobreajuste\n",
    "min_samples_split = 5         # Evita splits innecesarios\n",
    "min_samples_leaf = 2          # Mejora generalización\n",
    "\n",
    "modelo_rf, resultados_rf = entrenar_rf(\n",
    "    X_trainval, y_trainval, X_test, y_test,\n",
    "    n_estimators,\n",
    "    max_depth,\n",
    "    min_samples_split,\n",
    "    min_samples_leaf\n",
    "    )"
   ]
  },
  {
   "cell_type": "markdown",
   "metadata": {},
   "source": [
    "## XGBOOST"
   ]
  },
  {
   "cell_type": "code",
   "execution_count": 12,
   "metadata": {},
   "outputs": [
    {
     "name": "stdout",
     "output_type": "stream",
     "text": [
      "XGBoost entrenado con n_estimators=300, max_depth=6, learning_rate=0.03\n",
      "MSE: 84.9209, MAE: 7.3361, R²: 0.7101, Tiempo: 20.03 s\n"
     ]
    }
   ],
   "source": [
    "def entrenar_xgboost(X_train, y_train, X_val, y_val,\n",
    "                     n_estimators, max_depth,\n",
    "                     learning_rate, subsample,\n",
    "                     colsample_bytree):\n",
    "    \n",
    "    modelo = XGBRegressor(\n",
    "        n_estimators=n_estimators,\n",
    "        max_depth=max_depth,\n",
    "        learning_rate=learning_rate,\n",
    "        subsample=subsample,\n",
    "        colsample_bytree=colsample_bytree,\n",
    "        random_state=42,\n",
    "        n_jobs=-1,\n",
    "        verbosity=0\n",
    "    )\n",
    "\n",
    "    start = timeit.default_timer()\n",
    "\n",
    "    modelo.fit(X_train, y_train)\n",
    "    y_pred = modelo.predict(X_val)\n",
    "\n",
    "    stop = timeit.default_timer()\n",
    "    elapsed = stop - start\n",
    "\n",
    "    mse = mean_squared_error(y_val, y_pred)\n",
    "    mae = mean_absolute_error(y_val, y_pred)\n",
    "    r2 = r2_score(y_val, y_pred)\n",
    "\n",
    "    print(f\"XGBoost entrenado con n_estimators={n_estimators}, max_depth={max_depth}, learning_rate={learning_rate}\")\n",
    "    print(f\"MSE: {mse:.4f}, MAE: {mae:.4f}, R²: {r2:.4f}, Tiempo: {elapsed:.2f} s\")\n",
    "\n",
    "    return modelo, [mse, mae, r2, elapsed]\n",
    "\n",
    "n_estimators = 300            # Árboles suficientes para converger ## A ESTE SE le puede bajar def 100\n",
    "max_depth = 6                 # Controla complejidad (menos que RF) ==def\n",
    "learning_rate = 0.03          # Aprendizaje más lento = más generalización \n",
    "subsample = 0.8               # Evita sobreajuste (80% de datos en cada árbol) def =1\n",
    "colsample_bytree = 0.8        # Usar 80% de las columnas (útil con 2048 features) def =1\n",
    "\n",
    "modelo_xgb, resultados_xgb = entrenar_xgboost(\n",
    "    X_trainval, y_trainval, X_test, y_test,\n",
    "    n_estimators,\n",
    "    max_depth,\n",
    "    learning_rate,\n",
    "    subsample,\n",
    "    colsample_bytree)\n"
   ]
  },
  {
   "cell_type": "markdown",
   "metadata": {},
   "source": [
    "## LIGHTGBM"
   ]
  },
  {
   "cell_type": "code",
   "execution_count": 13,
   "metadata": {},
   "outputs": [
    {
     "name": "stdout",
     "output_type": "stream",
     "text": [
      "[LightGBM] [Info] Auto-choosing col-wise multi-threading, the overhead of testing was 0.066185 seconds.\n",
      "You can set `force_col_wise=true` to remove the overhead.\n",
      "[LightGBM] [Info] Total Bins 261120\n",
      "[LightGBM] [Info] Number of data points in the train set: 28743, number of used features: 1024\n",
      "[LightGBM] [Info] Start training from score 58.821847\n",
      "LightGBM entrenado con n_estimators=300, learning_rate=0.03, num_leaves=64\n",
      "MSE: 106.1657, MAE: 8.2486, R²: 0.6374, Tiempo: 7.10 s\n"
     ]
    }
   ],
   "source": [
    "def entrenar_lightgbm(X_train, y_train, X_val, y_val, objective,\n",
    "                      n_estimators, max_depth,\n",
    "                      learning_rate, num_leaves,\n",
    "                      subsample, colsample_bytree):\n",
    "    \n",
    "    modelo = LGBMRegressor(\n",
    "        n_estimators=n_estimators,\n",
    "        max_depth=max_depth,\n",
    "        learning_rate=learning_rate,\n",
    "        num_leaves=num_leaves,\n",
    "        subsample=subsample,\n",
    "        colsample_bytree=colsample_bytree,\n",
    "        random_state=42,\n",
    "        n_jobs=-1\n",
    "    )\n",
    "\n",
    "    start = timeit.default_timer()\n",
    "\n",
    "    modelo.fit(X_train, y_train)\n",
    "    y_pred = modelo.predict(X_val)\n",
    "\n",
    "    stop = timeit.default_timer()\n",
    "    elapsed = stop - start\n",
    "\n",
    "    mse = mean_squared_error(y_val, y_pred)\n",
    "    mae = mean_absolute_error(y_val, y_pred)\n",
    "    r2 = r2_score(y_val, y_pred)\n",
    "\n",
    "    print(f\"LightGBM entrenado con n_estimators={n_estimators}, learning_rate={learning_rate}, num_leaves={num_leaves}\")\n",
    "    print(f\"MSE: {mse:.4f}, MAE: {mae:.4f}, R²: {r2:.4f}, Tiempo: {elapsed:.2f} s\")\n",
    "\n",
    "    return modelo, [mse, mae, r2, elapsed]\n",
    "\n",
    "n_estimators = 300         # Más árboles para mejor ajuste\n",
    "learning_rate = 0.03       # Más bajo = mejor generalización\n",
    "max_depth = -1             # Sin límite de profundidad (útil con early stopping)\n",
    "num_leaves = 64            # Más que el valor por defecto (31), útil con 2048 features\n",
    "subsample = 1            # Muestreo de datos para evitar sobreajuste\n",
    "colsample_bytree = 1     # Muestreo de columnas (features) por árbol\n",
    "objective='regression'\n",
    "\n",
    "modelo_lgb, resultados_lgb = entrenar_lightgbm(\n",
    "    X_train, y_train, X_val, y_val, objective,\n",
    "    n_estimators, max_depth, learning_rate,\n",
    "    num_leaves, subsample, colsample_bytree\n",
    ")\n"
   ]
  },
  {
   "cell_type": "markdown",
   "metadata": {},
   "source": [
    "## Red Neuronal"
   ]
  },
  {
   "cell_type": "code",
   "execution_count": 14,
   "metadata": {},
   "outputs": [
    {
     "name": "stdout",
     "output_type": "stream",
     "text": [
      "Num GPUs Available:  1\n",
      "TensorFlow está usando la GPU.\n",
      "Nombre: /physical_device:GPU:0, Tipo: GPU\n"
     ]
    },
    {
     "name": "stderr",
     "output_type": "stream",
     "text": [
      "2025-05-11 16:16:49.851574: I tensorflow/compiler/xla/stream_executor/cuda/cuda_gpu_executor.cc:995] successful NUMA node read from SysFS had negative value (-1), but there must be at least one NUMA node, so returning NUMA node zero. See more at https://github.com/torvalds/linux/blob/v6.0/Documentation/ABI/testing/sysfs-bus-pci#L344-L355\n",
      "2025-05-11 16:16:49.891964: I tensorflow/compiler/xla/stream_executor/cuda/cuda_gpu_executor.cc:995] successful NUMA node read from SysFS had negative value (-1), but there must be at least one NUMA node, so returning NUMA node zero. See more at https://github.com/torvalds/linux/blob/v6.0/Documentation/ABI/testing/sysfs-bus-pci#L344-L355\n",
      "2025-05-11 16:16:49.892073: I tensorflow/compiler/xla/stream_executor/cuda/cuda_gpu_executor.cc:995] successful NUMA node read from SysFS had negative value (-1), but there must be at least one NUMA node, so returning NUMA node zero. See more at https://github.com/torvalds/linux/blob/v6.0/Documentation/ABI/testing/sysfs-bus-pci#L344-L355\n"
     ]
    }
   ],
   "source": [
    "import tensorflow as tf\n",
    "\n",
    "print(\"Num GPUs Available: \", len(tf.config.list_physical_devices('GPU')))\n",
    "\n",
    "if tf.config.list_physical_devices('GPU'):\n",
    "    print(\"TensorFlow está usando la GPU.\")\n",
    "    # Para ver más detalles de la GPU (opcional)\n",
    "    for gpu in tf.config.list_physical_devices('GPU'):\n",
    "        print(f\"Nombre: {gpu.name}, Tipo: {gpu.device_type}\")\n",
    "    device = torch.device(\"cuda\")  # Usa la GPU 2\n",
    "    #model.to(device)\n",
    "else:\n",
    "    print(\"TensorFlow NO está usando la GPU, usará la CPU.\")"
   ]
  },
  {
   "cell_type": "code",
   "execution_count": 15,
   "metadata": {},
   "outputs": [],
   "source": [
    "def entrenar_red_neuronal(train_loader, val_loader, test_loader,\n",
    "                           epochs=50, batch_size=32, learning_rate=1e-4,\n",
    "                           device=\"cuda\" if torch.cuda.is_available() else \"cpu\"):\n",
    "    print(\"\\n--- Entrenando Red Neuronal con PyTorch ---\")\n",
    "    print(f\"Usando dispositivo: {device.upper()}\")\n",
    "\n",
    "    # Definir el modelo\n",
    "    modelo = nn.Sequential(\n",
    "        nn.Linear(1024, 1024), nn.ReLU(), ### cambió para solo un embedding de 1024\n",
    "        nn.BatchNorm1d(1024), nn.Dropout(0.5),\n",
    "        nn.Linear(1024, 512),  nn.ReLU(),\n",
    "        nn.BatchNorm1d(512),  nn.Dropout(0.4),\n",
    "        nn.Linear(512, 256),  nn.ReLU(),\n",
    "        nn.Linear(256, 128),  nn.ReLU(),\n",
    "        nn.Linear(128,   1)\n",
    "    ).to(device)\n",
    "    #modelo = nn.Sequential(\n",
    "    #    nn.Linear(2048, 512), nn.ReLU(),\n",
    "    #    nn.BatchNorm1d(512), nn.Dropout(0.3),\n",
    "    #    nn.Linear(512, 128), nn.ReLU(),\n",
    "    #    nn.BatchNorm1d(128), nn.Dropout(0.3),\n",
    "    #    nn.Linear(128, 1)\n",
    "    #).to(device)\n",
    "\n",
    "    optimizer = optim.Adam(modelo.parameters(), lr=learning_rate, weight_decay=1e-5)\n",
    "    criterion = nn.MSELoss()\n",
    "\n",
    "    history = {\n",
    "        \"train_loss\": [],\n",
    "        \"val_loss\": []\n",
    "    }\n",
    "\n",
    "    start = time.time()\n",
    "\n",
    "    best_model = None\n",
    "    best_val_loss = float(\"inf\")\n",
    "\n",
    "    # Entrenamiento\n",
    "    for epoch in range(1, epochs + 1):\n",
    "        modelo.train()\n",
    "        train_losses = []\n",
    "\n",
    "        for X_batch, y_batch in train_loader:\n",
    "            X_batch, y_batch = X_batch.to(device), y_batch.to(device)\n",
    "\n",
    "            optimizer.zero_grad()\n",
    "            y_pred = modelo(X_batch).view(-1)\n",
    "            loss = criterion(y_pred, y_batch)\n",
    "            loss.backward()\n",
    "            optimizer.step()\n",
    "            train_losses.append(loss.item())\n",
    "\n",
    "        # Validación\n",
    "        modelo.eval()\n",
    "        val_losses = []\n",
    "        with torch.no_grad():\n",
    "            for X_batch, y_batch in val_loader:\n",
    "                X_batch, y_batch = X_batch.to(device), y_batch.to(device)\n",
    "                y_pred = modelo(X_batch).view(-1)\n",
    "                loss = criterion(y_pred, y_batch)\n",
    "                val_losses.append(loss.item())\n",
    "\n",
    "        train_loss_epoch = np.mean(train_losses)\n",
    "        val_loss_epoch = np.mean(val_losses)\n",
    "        history[\"train_loss\"].append(train_loss_epoch)\n",
    "        history[\"val_loss\"].append(val_loss_epoch)\n",
    "\n",
    "        # Guardar mejor modelo\n",
    "        if val_loss_epoch < best_val_loss:\n",
    "            best_val_loss = val_loss_epoch\n",
    "            best_model = copy.deepcopy(modelo)\n",
    "\n",
    "        print(f\"Época {epoch:02d} | Train Loss: {train_loss_epoch:.4f} | Val Loss: {val_loss_epoch:.4f}\")\n",
    "\n",
    "    # Evaluación final\n",
    "    modelo = best_model\n",
    "    modelo.eval()\n",
    "    y_trues, y_preds = [], []\n",
    "\n",
    "    with torch.no_grad():\n",
    "        for X_batch, y_batch in test_loader:\n",
    "            X_batch = X_batch.to(device)\n",
    "            #y_pred = modelo(X_batch).squeeze().cpu().numpy()\n",
    "            y_pred = modelo(X_batch).view(-1).cpu().numpy()\n",
    "            y_preds.append(y_pred)\n",
    "            y_trues.append(y_batch.numpy())\n",
    "\n",
    "    y_pred = np.concatenate(y_preds)\n",
    "    y_true = np.concatenate(y_trues)\n",
    "\n",
    "    stop = time.time()\n",
    "    elapsed = stop - start\n",
    "\n",
    "    mse = mean_squared_error(y_true, y_pred)\n",
    "    mae = mean_absolute_error(y_true, y_pred)\n",
    "    r2 = r2_score(y_true, y_pred)\n",
    "\n",
    "    print(f\"\\nEvaluación final en test:\")\n",
    "    print(f\"MSE: {mse:.4f} | MAE: {mae:.4f} | R²: {r2:.4f} | Tiempo: {elapsed:.2f} s\")\n",
    "\n",
    "    return modelo, [mse, mae, r2, elapsed], history\n",
    "  "
   ]
  },
  {
   "cell_type": "code",
   "execution_count": 16,
   "metadata": {},
   "outputs": [
    {
     "name": "stdout",
     "output_type": "stream",
     "text": [
      "\n",
      "--- Entrenando Red Neuronal con PyTorch ---\n",
      "Usando dispositivo: CUDA\n"
     ]
    },
    {
     "name": "stderr",
     "output_type": "stream",
     "text": [
      "/home/sis.virtual.uniandes.edu.co/as.villa/miniconda3/envs/bioembed/lib/python3.8/site-packages/tqdm/auto.py:21: TqdmWarning: IProgress not found. Please update jupyter and ipywidgets. See https://ipywidgets.readthedocs.io/en/stable/user_install.html\n",
      "  from .autonotebook import tqdm as notebook_tqdm\n"
     ]
    },
    {
     "name": "stdout",
     "output_type": "stream",
     "text": [
      "Época 01 | Train Loss: 3184.8750 | Val Loss: 1448.3307\n",
      "Época 02 | Train Loss: 676.8004 | Val Loss: 240.1296\n",
      "Época 03 | Train Loss: 281.6660 | Val Loss: 133.5726\n",
      "Época 04 | Train Loss: 175.8389 | Val Loss: 116.3532\n",
      "Época 05 | Train Loss: 147.5413 | Val Loss: 115.3195\n",
      "Época 06 | Train Loss: 134.8675 | Val Loss: 138.2923\n",
      "Época 07 | Train Loss: 126.1063 | Val Loss: 107.0907\n",
      "Época 08 | Train Loss: 115.9481 | Val Loss: 107.6374\n",
      "Época 09 | Train Loss: 110.6292 | Val Loss: 99.4032\n",
      "Época 10 | Train Loss: 106.3181 | Val Loss: 105.4732\n",
      "Época 11 | Train Loss: 101.0866 | Val Loss: 98.6767\n",
      "Época 12 | Train Loss: 98.2815 | Val Loss: 99.5648\n",
      "Época 13 | Train Loss: 95.6475 | Val Loss: 106.4496\n",
      "Época 14 | Train Loss: 91.8585 | Val Loss: 94.3909\n",
      "Época 15 | Train Loss: 90.4847 | Val Loss: 95.8201\n",
      "Época 16 | Train Loss: 87.9658 | Val Loss: 95.1151\n",
      "Época 17 | Train Loss: 86.0926 | Val Loss: 95.4500\n",
      "Época 18 | Train Loss: 83.3461 | Val Loss: 91.7544\n",
      "Época 19 | Train Loss: 82.6993 | Val Loss: 92.6313\n",
      "Época 20 | Train Loss: 80.3051 | Val Loss: 93.9277\n",
      "Época 21 | Train Loss: 79.1832 | Val Loss: 93.1442\n",
      "Época 22 | Train Loss: 78.0792 | Val Loss: 95.5838\n",
      "Época 23 | Train Loss: 76.6641 | Val Loss: 94.1665\n",
      "Época 24 | Train Loss: 75.9482 | Val Loss: 96.0521\n",
      "Época 25 | Train Loss: 75.6392 | Val Loss: 93.8992\n",
      "Época 26 | Train Loss: 73.8679 | Val Loss: 91.1970\n",
      "Época 27 | Train Loss: 72.8464 | Val Loss: 98.4360\n",
      "Época 28 | Train Loss: 71.0547 | Val Loss: 96.2413\n",
      "Época 29 | Train Loss: 69.3374 | Val Loss: 90.6855\n",
      "Época 30 | Train Loss: 69.4075 | Val Loss: 95.0649\n",
      "Época 31 | Train Loss: 69.9734 | Val Loss: 95.9049\n",
      "Época 32 | Train Loss: 67.2521 | Val Loss: 93.2839\n",
      "Época 33 | Train Loss: 66.9795 | Val Loss: 94.4813\n",
      "Época 34 | Train Loss: 64.7869 | Val Loss: 100.2512\n",
      "Época 35 | Train Loss: 64.7608 | Val Loss: 97.9103\n",
      "Época 36 | Train Loss: 64.9024 | Val Loss: 101.6388\n",
      "Época 37 | Train Loss: 63.0036 | Val Loss: 95.9003\n",
      "Época 38 | Train Loss: 62.4255 | Val Loss: 94.5390\n",
      "Época 39 | Train Loss: 62.0884 | Val Loss: 95.2578\n",
      "Época 40 | Train Loss: 63.2896 | Val Loss: 97.2149\n",
      "Época 41 | Train Loss: 61.4372 | Val Loss: 96.6051\n",
      "Época 42 | Train Loss: 60.6993 | Val Loss: 91.9208\n",
      "Época 43 | Train Loss: 59.3964 | Val Loss: 100.3376\n",
      "Época 44 | Train Loss: 59.1106 | Val Loss: 93.7686\n",
      "Época 45 | Train Loss: 59.1522 | Val Loss: 96.8921\n",
      "Época 46 | Train Loss: 59.6172 | Val Loss: 95.0566\n",
      "Época 47 | Train Loss: 57.6190 | Val Loss: 95.3031\n",
      "Época 48 | Train Loss: 56.8322 | Val Loss: 96.1697\n",
      "Época 49 | Train Loss: 56.9346 | Val Loss: 93.9112\n",
      "Época 50 | Train Loss: 56.2750 | Val Loss: 96.1854\n",
      "\n",
      "Evaluación final en test:\n",
      "MSE: 87.4660 | MAE: 7.4582 | R²: 0.7014 | Tiempo: 110.04 s\n"
     ]
    }
   ],
   "source": [
    "modelo_nn, resultados_nn, history_nn = entrenar_red_neuronal(\n",
    "    train_loader=train_loader,\n",
    "    val_loader=val_loader,\n",
    "    test_loader=test_loader,\n",
    "    epochs=50,\n",
    "    batch_size=32,\n",
    "    learning_rate=1e-5\n",
    ")"
   ]
  },
  {
   "cell_type": "code",
   "execution_count": 17,
   "metadata": {},
   "outputs": [
    {
     "data": {
      "image/png": "[encoded data removed]",
      "text/plain": [
       "<Figure size 640x480 with 1 Axes>"
      ]
     },
     "metadata": {},
     "output_type": "display_data"
    }
   ],
   "source": [
    "plt.plot(history_nn[\"train_loss\"], label=\"Train Loss\")\n",
    "plt.plot(history_nn[\"val_loss\"], label=\"Val Loss\")\n",
    "plt.xlabel(\"Epoch\")\n",
    "plt.ylabel(\"Loss\")\n",
    "plt.title(\"Evolución del loss por época\")\n",
    "plt.legend()\n",
    "plt.grid(True)\n",
    "plt.ylim(0, 500) \n",
    "plt.show()\n"
   ]
  },
  {
   "cell_type": "markdown",
   "metadata": {},
   "source": [
    "### RECOLECCIÓN DE RESULTADOS DE TODOS LOS MODELOS"
   ]
  },
  {
   "cell_type": "code",
   "execution_count": 19,
   "metadata": {
    "scrolled": true
   },
   "outputs": [
    {
     "name": "stdout",
     "output_type": "stream",
     "text": [
      "\n",
      "--- TABLA COMPARATIVA DE RESULTADOS EN TEST ---\n",
      "          Modelo         MSE       MAE        R2  Runtime (s)\n",
      "0            SVR   81.873237  7.170949  0.720478   136.527474\n",
      "1  Random Forest  103.071034  8.193921  0.648107   275.863056\n",
      "2        XGBoost   84.920893  7.336131  0.710073    20.030591\n",
      "3       LightGBM  106.165687  8.248615  0.637381     7.095595\n",
      "4   Red Neuronal   87.465988  7.458176  0.701384   110.041431\n",
      "--------------------------------------------------\n"
     ]
    },
    {
     "name": "stderr",
     "output_type": "stream",
     "text": [
      "/tmp/ipykernel_53241/457503403.py:83: FutureWarning: \n",
      "\n",
      "Passing `palette` without assigning `hue` is deprecated and will be removed in v0.14.0. Assign the `x` variable to `hue` and set `legend=False` for the same effect.\n",
      "\n",
      "  sns.barplot(x=\"Modelo\", y=metric, data=results_df, ax=ax, palette=\"viridis\")\n",
      "/tmp/ipykernel_53241/457503403.py:83: FutureWarning: \n",
      "\n",
      "Passing `palette` without assigning `hue` is deprecated and will be removed in v0.14.0. Assign the `x` variable to `hue` and set `legend=False` for the same effect.\n",
      "\n",
      "  sns.barplot(x=\"Modelo\", y=metric, data=results_df, ax=ax, palette=\"viridis\")\n",
      "/tmp/ipykernel_53241/457503403.py:83: FutureWarning: \n",
      "\n",
      "Passing `palette` without assigning `hue` is deprecated and will be removed in v0.14.0. Assign the `x` variable to `hue` and set `legend=False` for the same effect.\n",
      "\n",
      "  sns.barplot(x=\"Modelo\", y=metric, data=results_df, ax=ax, palette=\"viridis\")\n",
      "/tmp/ipykernel_53241/457503403.py:83: FutureWarning: \n",
      "\n",
      "Passing `palette` without assigning `hue` is deprecated and will be removed in v0.14.0. Assign the `x` variable to `hue` and set `legend=False` for the same effect.\n",
      "\n",
      "  sns.barplot(x=\"Modelo\", y=metric, data=results_df, ax=ax, palette=\"viridis\")\n"
     ]
    },
    {
     "data": {
      "image/png": "[encoded data removed]",
      "text/plain": [
       "<Figure size 1200x1000 with 4 Axes>"
      ]
     },
     "metadata": {},
     "output_type": "display_data"
    }
   ],
   "source": [
    "import matplotlib.pyplot as plt\n",
    "import seaborn as sns\n",
    "all_results = []\n",
    "if 'resultados_svr' in locals(): # Verifica si la variable existe\n",
    "    all_results.append({\n",
    "        \"Modelo\": \"SVR\",\n",
    "        \"MSE\": resultados_svr[0],\n",
    "        \"MAE\": resultados_svr[1],\n",
    "        \"R2\": resultados_svr[2],\n",
    "        \"Runtime (s)\": resultados_svr[3]\n",
    "    })\n",
    "\n",
    "# Añadir resultados del Random Forest\n",
    "if 'resultados_rf' in locals():\n",
    "    all_results.append({\n",
    "        \"Modelo\": \"Random Forest\",\n",
    "        \"MSE\": resultados_rf[0],\n",
    "        \"MAE\": resultados_rf[1],\n",
    "        \"R2\": resultados_rf[2],\n",
    "        \"Runtime (s)\": resultados_rf[3]\n",
    "    })\n",
    "\n",
    "# Añadir resultados del XGBoost\n",
    "if 'resultados_xgb' in locals():\n",
    "    all_results.append({\n",
    "        \"Modelo\": \"XGBoost\",\n",
    "        \"MSE\": resultados_xgb[0],\n",
    "        \"MAE\": resultados_xgb[1],\n",
    "        \"R2\": resultados_xgb[2],\n",
    "        \"Runtime (s)\": resultados_xgb[3]\n",
    "    })\n",
    "\n",
    "# Añadir resultados del LightGBM\n",
    "if 'resultados_lgb' in locals():\n",
    "    all_results.append({\n",
    "        \"Modelo\": \"LightGBM\",\n",
    "        \"MSE\": resultados_lgb[0],\n",
    "        \"MAE\": resultados_lgb[1],\n",
    "        \"R2\": resultados_lgb[2],\n",
    "        \"Runtime (s)\": resultados_lgb[3]\n",
    "    })\n",
    "\n",
    "# Añadir resultados de la Red Neuronal\n",
    "# Asumiendo que tu función se llama entrenar_red_neuronal y la has ejecutado:\n",
    "# modelo_nn, resultados_nn = entrenar_red_neuronal(X_trainval, y_trainval, X_test, y_test, X_test, y_test, epochs=50)\n",
    "if 'resultados_nn' in locals(): # Renombra 'resultados_nn' según cómo lo hayas guardado\n",
    "    all_results.append({\n",
    "        \"Modelo\": \"Red Neuronal\",\n",
    "        \"MSE\": resultados_nn[0],\n",
    "        \"MAE\": resultados_nn[1],\n",
    "        \"R2\": resultados_nn[2],\n",
    "        \"Runtime (s)\": resultados_nn[3]\n",
    "    })\n",
    "else: # Si no se corrió la red neuronal, puedes añadir un placeholder o un mensaje\n",
    "    print(\"Resultados de Red Neuronal no disponibles para visualización.\")\n",
    "\n",
    "\n",
    "# Convertir la lista de resultados a un DataFrame de Pandas\n",
    "if all_results: # Solo si la lista no está vacía\n",
    "    results_df = pd.DataFrame(all_results)\n",
    "    print(\"\\n--- TABLA COMPARATIVA DE RESULTADOS EN TEST ---\")\n",
    "    print(results_df)\n",
    "    print(\"-\" * 50)\n",
    "    \n",
    "    results_df.to_excel(\"seqvec.xlsx\", index=False) ##################################################\n",
    "\n",
    "    # ---------------------------------------------------------------------------\n",
    "    # VISUALIZACIÓN DE MÉTRICAS\n",
    "    # ---------------------------------------------------------------------------\n",
    "    if not results_df.empty:\n",
    "        plt.style.use('seaborn-v0_8-whitegrid') # Estilo de gráfico\n",
    "\n",
    "        metrics_to_plot = [\"MSE\", \"MAE\", \"R2\", \"Runtime (s)\"]\n",
    "        n_metrics = len(metrics_to_plot)\n",
    "        n_cols = 2 # Puedes ajustar el número de columnas para los subplots\n",
    "        n_rows = (n_metrics + n_cols - 1) // n_cols\n",
    "\n",
    "        fig, axes = plt.subplots(nrows=n_rows, ncols=n_cols, figsize=(12, n_rows * 5))\n",
    "        axes = axes.flatten() # Para acceder a los subplots de forma lineal\n",
    "\n",
    "        for i, metric in enumerate(metrics_to_plot):\n",
    "            ax = axes[i]\n",
    "            sns.barplot(x=\"Modelo\", y=metric, data=results_df, ax=ax, palette=\"viridis\")\n",
    "            ax.set_title(f\"Comparación de {metric} por Modelo\", fontsize=14)\n",
    "            ax.set_xlabel(\"Modelo\", fontsize=12)\n",
    "            ax.set_ylabel(metric, fontsize=12)\n",
    "            ax.tick_params(axis='x', rotation=45)\n",
    "            for p in ax.patches:\n",
    "                ax.annotate(f\"{p.get_height():.3f}\",\n",
    "                            (p.get_x() + p.get_width() / 2., p.get_height()),\n",
    "                            ha='center', va='center',\n",
    "                            xytext=(0, 5),\n",
    "                            textcoords='offset points', fontsize=9)\n",
    "\n",
    "        # Ocultar ejes no utilizados si el número de métricas no es múltiplo de n_cols\n",
    "        for j in range(i + 1, len(axes)):\n",
    "            fig.delaxes(axes[j])\n",
    "\n",
    "        plt.tight_layout() # Ajusta el layout para que no se solapen los títulos\n",
    "        plt.show()\n",
    "\n",
    "        # Si quieres guardar la figura\n",
    "        # fig.savefig(os.path.join(base_dir, \"models/comparacion_metricas.png\"), dpi=300)\n",
    "        # print(\"Gráfico de comparación de métricas guardado.\")\n",
    "\n",
    "    else:\n",
    "        print(\"No hay resultados para graficar.\")\n",
    "else:\n",
    "    print(\"No se generaron resultados para ningún modelo.\")"
   ]
  },
  {
   "cell_type": "code",
   "execution_count": null,
   "metadata": {},
   "outputs": [],
   "source": []
  }
 ],
 "metadata": {
  "colab": {
   "provenance": []
  },
  "kernelspec": {
   "display_name": "Python 3 (ipykernel)",
   "language": "python",
   "name": "python3"
  },
  "language_info": {
   "codemirror_mode": {
    "name": "ipython",
    "version": 3
   },
   "file_extension": ".py",
   "mimetype": "text/x-python",
   "name": "python",
   "nbconvert_exporter": "python",
   "pygments_lexer": "ipython3",
   "version": "3.8.20"
  }
 },
 "nbformat": 4,
 "nbformat_minor": 4
}
