{
  "nbformat": 4,
  "nbformat_minor": 0,
  "metadata": {
    "colab": {
      "provenance": []
    },
    "kernelspec": {
      "name": "python3",
      "display_name": "Python 3"
    },
    "language_info": {
      "name": "python"
    }
  },
  "cells": [
    {
      "cell_type": "code",
      "execution_count": 1,
      "metadata": {
        "id": "VXMc4Xm-LEpT"
      },
      "outputs": [],
      "source": [
        "!mkdir data"
      ]
    },
    {
      "cell_type": "code",
      "execution_count": 2,
      "metadata": {
        "id": "QiRIrSnHrTR2",
        "colab": {
          "base_uri": "https://localhost:8080/"
        },
        "outputId": "fe4913f4-9bb7-485f-8e00-f7437c6dc16e"
      },
      "outputs": [
        {
          "output_type": "stream",
          "name": "stdout",
          "text": [
            "\n",
            "gzip: stdin: unexpected end of file\n",
            "tar: Unexpected EOF in archive\n",
            "tar: Unexpected EOF in archive\n",
            "tar: Error is not recoverable: exiting now\n"
          ]
        }
      ],
      "source": [
        "!tar -xzf /content/data/estructuras.tar.gz -C /content/data/"
      ]
    },
    {
      "cell_type": "code",
      "source": [
        "!gunzip -f /content/data/estructuras/*/*.gz"
      ],
      "metadata": {
        "id": "nsnC_p6VscDK",
        "colab": {
          "base_uri": "https://localhost:8080/"
        },
        "outputId": "ba887479-574d-4a3d-ed03-8d485b5caf5e"
      },
      "execution_count": 4,
      "outputs": [
        {
          "output_type": "stream",
          "name": "stdout",
          "text": [
            "\n",
            "gzip: /content/data/estructuras/val/Q5SIC7.pdb.gz: unexpected end of file\n"
          ]
        }
      ]
    },
    {
      "cell_type": "code",
      "source": [
        "!wget https://mmseqs.com/foldseek/foldseek-linux-avx2.tar.gz\n",
        "!tar xzf foldseek-linux-avx2.tar.gz\n",
        "!mv foldseek* foldseek\n",
        "!foldseek/bin/foldseek --help"
      ],
      "metadata": {
        "colab": {
          "base_uri": "https://localhost:8080/"
        },
        "collapsed": true,
        "id": "42HTdxquri3I",
        "outputId": "10c4cbf5-de39-4e50-acd6-1a87a93f4a66"
      },
      "execution_count": 3,
      "outputs": [
        {
          "output_type": "stream",
          "name": "stdout",
          "text": [
            "--2025-05-03 14:06:33--  https://mmseqs.com/foldseek/foldseek-linux-avx2.tar.gz\n",
            "Resolving mmseqs.com (mmseqs.com)... 158.247.200.62\n",
            "Connecting to mmseqs.com (mmseqs.com)|158.247.200.62|:443... connected.\n",
            "HTTP request sent, awaiting response... 200 OK\n",
            "Length: 11518089 (11M) [application/octet-stream]\n",
            "Saving to: ‘foldseek-linux-avx2.tar.gz’\n",
            "\n",
            "foldseek-linux-avx2 100%[===================>]  10.98M  8.01MB/s    in 1.4s    \n",
            "\n",
            "2025-05-03 14:06:35 (8.01 MB/s) - ‘foldseek-linux-avx2.tar.gz’ saved [11518089/11518089]\n",
            "\n",
            "mv: cannot move 'foldseek' to a subdirectory of itself, 'foldseek/foldseek'\n",
            "Foldseek enables fast and sensitive comparisons of large structure sets. It reaches sensitivities similar to state-of-the-art structural aligners while being at least 20,000 times faster.\n",
            "\n",
            "Please cite:\n",
            "van Kempen, M., Kim, S.S., Tumescheit, C., Mirdita, M., Lee, J., Gilchrist, C.L.M., Söding, J., and Steinegger, M. Fast and accurate protein structure search with Foldseek. Nature Biotechnology, doi:10.1038/s41587-023-01773-0 (2023)\n",
            "\n",
            "foldseek Version: d609cff8ca9250b9994a96207fb22a1585e7964e\n",
            "© Michel van Kempen, Stephanie Kim, Charlotte Tumescheit, Milot Mirdita, Jeongjae Lee, Cameron L. M. Gilchrist, Johannes Söding, Martin Steinegger\n",
            "\n",
            "usage: foldseek <command> [<args>]\n",
            "\n",
            "Easy workflows for plain text input/output\n",
            "  easy-search       \tStructual search\n",
            "  easy-cluster      \tSlower, sensitive clustering\n",
            "  easy-rbh          \tFind reciprocal best hit\n",
            "  easy-multimercluster\tMultimer level cluster\n",
            "  easy-multimersearch\tMultimer level search\n",
            "\n",
            "Main workflows for database input/output\n",
            "  createdb          \tConvert PDB/mmCIF/tar[.gz]/DB files or directory/TSV to a structure DB\n",
            "  search            \tSensitive homology search\n",
            "  rbh               \tReciprocal best hit search\n",
            "  cluster           \tSlower, sensitive clustering\n",
            "  multimercluster   \tMultimer level cluster\n",
            "  multimersearch    \tMultimer level search\n",
            "\n",
            "Input database creation\n",
            "  databases         \tList and download databases\n",
            "  createindex       \tStore precomputed index on disk to reduce search overhead\n",
            "  createclusearchdb \tBuild a searchable cluster database allowing for faster searches\n",
            "\n",
            "Unite and intersect databases\n",
            "  createsubdb       \tCreate a subset of a DB from list of DB keys\n",
            "\n",
            "Format conversion for downstream processing\n",
            "  convertalis       \tConvert alignment DB to BLAST-tab, SAM or custom format\n",
            "  compressca        \tCreate a new C-alpha DB with chosen compression encoding from a sequence DB\n",
            "  convert2pdb       \tConvert a foldseek structure db to a single multi model PDB file or a directory of PDB files\n",
            "  createmultimerreport\tConvert complexDB to tsv format\n",
            "\n",
            "Prefiltering        \n",
            "  expandmultimer    \tRe-prefilter to ensure complete alignment between multimers\n",
            "\n",
            "Alignment           \n",
            "  tmalign           \tCompute tm-score \n",
            "  structurealign    \tCompute structural alignment using 3Di alphabet, amino acids and neighborhood information\n",
            "  structurerescorediagonal\tCompute sequence identity for diagonal\n",
            "  aln2tmscore       \tCompute tmscore of an alignment database \n",
            "  scoremultimer     \tGet multimer level alignments from alignmentDB\n",
            "\n",
            "Clustering          \n",
            "  clust             \tCluster result by Set-Cover/Connected-Component/Greedy-Incremental\n",
            "\n",
            "Profile databases   \n",
            "  result2profile    \tCompute profile DB from a result DB for both amino acid and 3di\n",
            "\n"
          ]
        }
      ]
    },
    {
      "cell_type": "code",
      "source": [
        "!pip install biopython"
      ],
      "metadata": {
        "colab": {
          "base_uri": "https://localhost:8080/"
        },
        "id": "n7pI3tTJhRpU",
        "outputId": "3c727035-94b5-4a1a-fac5-842084cae5e5"
      },
      "execution_count": null,
      "outputs": [
        {
          "output_type": "stream",
          "name": "stdout",
          "text": [
            "Requirement already satisfied: biopython in /usr/local/lib/python3.11/dist-packages (1.85)\n",
            "Requirement already satisfied: numpy in /usr/local/lib/python3.11/dist-packages (from biopython) (2.0.2)\n"
          ]
        }
      ]
    },
    {
      "cell_type": "code",
      "source": [
        "!pip install dscript"
      ],
      "metadata": {
        "colab": {
          "base_uri": "https://localhost:8080/"
        },
        "id": "cuQjkC9jyC3Q",
        "outputId": "9c5b9c6e-5b1d-4ec3-bae6-b840356b852d",
        "collapsed": true
      },
      "execution_count": null,
      "outputs": [
        {
          "output_type": "stream",
          "name": "stdout",
          "text": [
            "Collecting dscript\n",
            "  Downloading dscript-0.2.8-py3-none-any.whl.metadata (474 bytes)\n",
            "Requirement already satisfied: numpy in /usr/local/lib/python3.11/dist-packages (from dscript) (2.0.2)\n",
            "Requirement already satisfied: scipy in /usr/local/lib/python3.11/dist-packages (from dscript) (1.15.2)\n",
            "Requirement already satisfied: pandas in /usr/local/lib/python3.11/dist-packages (from dscript) (2.2.2)\n",
            "Requirement already satisfied: torch>=1.11 in /usr/local/lib/python3.11/dist-packages (from dscript) (2.6.0+cu124)\n",
            "Collecting biopython (from dscript)\n",
            "  Downloading biopython-1.85-cp311-cp311-manylinux_2_17_x86_64.manylinux2014_x86_64.whl.metadata (13 kB)\n",
            "Requirement already satisfied: matplotlib in /usr/local/lib/python3.11/dist-packages (from dscript) (3.10.0)\n",
            "Requirement already satisfied: seaborn in /usr/local/lib/python3.11/dist-packages (from dscript) (0.13.2)\n",
            "Requirement already satisfied: tqdm in /usr/local/lib/python3.11/dist-packages (from dscript) (4.67.1)\n",
            "Requirement already satisfied: scikit-learn in /usr/local/lib/python3.11/dist-packages (from dscript) (1.6.1)\n",
            "Requirement already satisfied: h5py in /usr/local/lib/python3.11/dist-packages (from dscript) (3.13.0)\n",
            "Requirement already satisfied: filelock in /usr/local/lib/python3.11/dist-packages (from torch>=1.11->dscript) (3.18.0)\n",
            "Requirement already satisfied: typing-extensions>=4.10.0 in /usr/local/lib/python3.11/dist-packages (from torch>=1.11->dscript) (4.13.2)\n",
            "Requirement already satisfied: networkx in /usr/local/lib/python3.11/dist-packages (from torch>=1.11->dscript) (3.4.2)\n",
            "Requirement already satisfied: jinja2 in /usr/local/lib/python3.11/dist-packages (from torch>=1.11->dscript) (3.1.6)\n",
            "Requirement already satisfied: fsspec in /usr/local/lib/python3.11/dist-packages (from torch>=1.11->dscript) (2025.3.2)\n",
            "Collecting nvidia-cuda-nvrtc-cu12==12.4.127 (from torch>=1.11->dscript)\n",
            "  Downloading nvidia_cuda_nvrtc_cu12-12.4.127-py3-none-manylinux2014_x86_64.whl.metadata (1.5 kB)\n",
            "Collecting nvidia-cuda-runtime-cu12==12.4.127 (from torch>=1.11->dscript)\n",
            "  Downloading nvidia_cuda_runtime_cu12-12.4.127-py3-none-manylinux2014_x86_64.whl.metadata (1.5 kB)\n",
            "Collecting nvidia-cuda-cupti-cu12==12.4.127 (from torch>=1.11->dscript)\n",
            "  Downloading nvidia_cuda_cupti_cu12-12.4.127-py3-none-manylinux2014_x86_64.whl.metadata (1.6 kB)\n",
            "Collecting nvidia-cudnn-cu12==9.1.0.70 (from torch>=1.11->dscript)\n",
            "  Downloading nvidia_cudnn_cu12-9.1.0.70-py3-none-manylinux2014_x86_64.whl.metadata (1.6 kB)\n",
            "Collecting nvidia-cublas-cu12==12.4.5.8 (from torch>=1.11->dscript)\n",
            "  Downloading nvidia_cublas_cu12-12.4.5.8-py3-none-manylinux2014_x86_64.whl.metadata (1.5 kB)\n",
            "Collecting nvidia-cufft-cu12==11.2.1.3 (from torch>=1.11->dscript)\n",
            "  Downloading nvidia_cufft_cu12-11.2.1.3-py3-none-manylinux2014_x86_64.whl.metadata (1.5 kB)\n",
            "Collecting nvidia-curand-cu12==10.3.5.147 (from torch>=1.11->dscript)\n",
            "  Downloading nvidia_curand_cu12-10.3.5.147-py3-none-manylinux2014_x86_64.whl.metadata (1.5 kB)\n",
            "Collecting nvidia-cusolver-cu12==11.6.1.9 (from torch>=1.11->dscript)\n",
            "  Downloading nvidia_cusolver_cu12-11.6.1.9-py3-none-manylinux2014_x86_64.whl.metadata (1.6 kB)\n",
            "Collecting nvidia-cusparse-cu12==12.3.1.170 (from torch>=1.11->dscript)\n",
            "  Downloading nvidia_cusparse_cu12-12.3.1.170-py3-none-manylinux2014_x86_64.whl.metadata (1.6 kB)\n",
            "Requirement already satisfied: nvidia-cusparselt-cu12==0.6.2 in /usr/local/lib/python3.11/dist-packages (from torch>=1.11->dscript) (0.6.2)\n",
            "Requirement already satisfied: nvidia-nccl-cu12==2.21.5 in /usr/local/lib/python3.11/dist-packages (from torch>=1.11->dscript) (2.21.5)\n",
            "Requirement already satisfied: nvidia-nvtx-cu12==12.4.127 in /usr/local/lib/python3.11/dist-packages (from torch>=1.11->dscript) (12.4.127)\n",
            "Collecting nvidia-nvjitlink-cu12==12.4.127 (from torch>=1.11->dscript)\n",
            "  Downloading nvidia_nvjitlink_cu12-12.4.127-py3-none-manylinux2014_x86_64.whl.metadata (1.5 kB)\n",
            "Requirement already satisfied: triton==3.2.0 in /usr/local/lib/python3.11/dist-packages (from torch>=1.11->dscript) (3.2.0)\n",
            "Requirement already satisfied: sympy==1.13.1 in /usr/local/lib/python3.11/dist-packages (from torch>=1.11->dscript) (1.13.1)\n",
            "Requirement already satisfied: mpmath<1.4,>=1.1.0 in /usr/local/lib/python3.11/dist-packages (from sympy==1.13.1->torch>=1.11->dscript) (1.3.0)\n",
            "Requirement already satisfied: contourpy>=1.0.1 in /usr/local/lib/python3.11/dist-packages (from matplotlib->dscript) (1.3.2)\n",
            "Requirement already satisfied: cycler>=0.10 in /usr/local/lib/python3.11/dist-packages (from matplotlib->dscript) (0.12.1)\n",
            "Requirement already satisfied: fonttools>=4.22.0 in /usr/local/lib/python3.11/dist-packages (from matplotlib->dscript) (4.57.0)\n",
            "Requirement already satisfied: kiwisolver>=1.3.1 in /usr/local/lib/python3.11/dist-packages (from matplotlib->dscript) (1.4.8)\n",
            "Requirement already satisfied: packaging>=20.0 in /usr/local/lib/python3.11/dist-packages (from matplotlib->dscript) (24.2)\n",
            "Requirement already satisfied: pillow>=8 in /usr/local/lib/python3.11/dist-packages (from matplotlib->dscript) (11.2.1)\n",
            "Requirement already satisfied: pyparsing>=2.3.1 in /usr/local/lib/python3.11/dist-packages (from matplotlib->dscript) (3.2.3)\n",
            "Requirement already satisfied: python-dateutil>=2.7 in /usr/local/lib/python3.11/dist-packages (from matplotlib->dscript) (2.9.0.post0)\n",
            "Requirement already satisfied: pytz>=2020.1 in /usr/local/lib/python3.11/dist-packages (from pandas->dscript) (2025.2)\n",
            "Requirement already satisfied: tzdata>=2022.7 in /usr/local/lib/python3.11/dist-packages (from pandas->dscript) (2025.2)\n",
            "Requirement already satisfied: joblib>=1.2.0 in /usr/local/lib/python3.11/dist-packages (from scikit-learn->dscript) (1.4.2)\n",
            "Requirement already satisfied: threadpoolctl>=3.1.0 in /usr/local/lib/python3.11/dist-packages (from scikit-learn->dscript) (3.6.0)\n",
            "Requirement already satisfied: six>=1.5 in /usr/local/lib/python3.11/dist-packages (from python-dateutil>=2.7->matplotlib->dscript) (1.17.0)\n",
            "Requirement already satisfied: MarkupSafe>=2.0 in /usr/local/lib/python3.11/dist-packages (from jinja2->torch>=1.11->dscript) (3.0.2)\n",
            "Downloading dscript-0.2.8-py3-none-any.whl (38 kB)\n",
            "Downloading nvidia_cublas_cu12-12.4.5.8-py3-none-manylinux2014_x86_64.whl (363.4 MB)\n",
            "\u001b[2K   \u001b[90m━━━━━━━━━━━━━━━━━━━━━━━━━━━━━━━━━━━━━━━━\u001b[0m \u001b[32m363.4/363.4 MB\u001b[0m \u001b[31m2.0 MB/s\u001b[0m eta \u001b[36m0:00:00\u001b[0m\n",
            "\u001b[?25hDownloading nvidia_cuda_cupti_cu12-12.4.127-py3-none-manylinux2014_x86_64.whl (13.8 MB)\n",
            "\u001b[2K   \u001b[90m━━━━━━━━━━━━━━━━━━━━━━━━━━━━━━━━━━━━━━━━\u001b[0m \u001b[32m13.8/13.8 MB\u001b[0m \u001b[31m3.6 MB/s\u001b[0m eta \u001b[36m0:00:00\u001b[0m\n",
            "\u001b[?25hDownloading nvidia_cuda_nvrtc_cu12-12.4.127-py3-none-manylinux2014_x86_64.whl (24.6 MB)\n",
            "\u001b[2K   \u001b[90m━━━━━━━━━━━━━━━━━━━━━━━━━━━━━━━━━━━━━━━━\u001b[0m \u001b[32m24.6/24.6 MB\u001b[0m \u001b[31m2.9 MB/s\u001b[0m eta \u001b[36m0:00:00\u001b[0m\n",
            "\u001b[?25hDownloading nvidia_cuda_runtime_cu12-12.4.127-py3-none-manylinux2014_x86_64.whl (883 kB)\n",
            "\u001b[2K   \u001b[90m━━━━━━━━━━━━━━━━━━━━━━━━━━━━━━━━━━━━━━━━\u001b[0m \u001b[32m883.7/883.7 kB\u001b[0m \u001b[31m2.4 MB/s\u001b[0m eta \u001b[36m0:00:00\u001b[0m\n",
            "\u001b[?25hDownloading nvidia_cudnn_cu12-9.1.0.70-py3-none-manylinux2014_x86_64.whl (664.8 MB)\n",
            "\u001b[2K   \u001b[90m━━━━━━━━━━━━━━━━━━━━━━━━━━━━━━━━━━━━━━━━\u001b[0m \u001b[32m664.8/664.8 MB\u001b[0m \u001b[31m1.5 MB/s\u001b[0m eta \u001b[36m0:00:00\u001b[0m\n",
            "\u001b[?25hDownloading nvidia_cufft_cu12-11.2.1.3-py3-none-manylinux2014_x86_64.whl (211.5 MB)\n",
            "\u001b[2K   \u001b[90m━━━━━━━━━━━━━━━━━━━━━━━━━━━━━━━━━━━━━━━━\u001b[0m \u001b[32m211.5/211.5 MB\u001b[0m \u001b[31m1.3 MB/s\u001b[0m eta \u001b[36m0:00:00\u001b[0m\n",
            "\u001b[?25hDownloading nvidia_curand_cu12-10.3.5.147-py3-none-manylinux2014_x86_64.whl (56.3 MB)\n",
            "\u001b[2K   \u001b[90m━━━━━━━━━━━━━━━━━━━━━━━━━━━━━━━━━━━━━━━━\u001b[0m \u001b[32m56.3/56.3 MB\u001b[0m \u001b[31m3.6 MB/s\u001b[0m eta \u001b[36m0:00:00\u001b[0m\n",
            "\u001b[?25hDownloading nvidia_cusolver_cu12-11.6.1.9-py3-none-manylinux2014_x86_64.whl (127.9 MB)\n",
            "\u001b[2K   \u001b[90m━━━━━━━━━━━━━━━━━━━━━━━━━━━━━━━━━━━━━━━━\u001b[0m \u001b[32m127.9/127.9 MB\u001b[0m \u001b[31m3.3 MB/s\u001b[0m eta \u001b[36m0:00:00\u001b[0m\n",
            "\u001b[?25hDownloading nvidia_cusparse_cu12-12.3.1.170-py3-none-manylinux2014_x86_64.whl (207.5 MB)\n",
            "\u001b[2K   \u001b[90m━━━━━━━━━━━━━━━━━━━━━━━━━━━━━━━━━━━━━━━━\u001b[0m \u001b[32m207.5/207.5 MB\u001b[0m \u001b[31m3.6 MB/s\u001b[0m eta \u001b[36m0:00:00\u001b[0m\n",
            "\u001b[?25hDownloading nvidia_nvjitlink_cu12-12.4.127-py3-none-manylinux2014_x86_64.whl (21.1 MB)\n",
            "\u001b[2K   \u001b[90m━━━━━━━━━━━━━━━━━━━━━━━━━━━━━━━━━━━━━━━━\u001b[0m \u001b[32m21.1/21.1 MB\u001b[0m \u001b[31m13.9 MB/s\u001b[0m eta \u001b[36m0:00:00\u001b[0m\n",
            "\u001b[?25hDownloading biopython-1.85-cp311-cp311-manylinux_2_17_x86_64.manylinux2014_x86_64.whl (3.3 MB)\n",
            "\u001b[2K   \u001b[90m━━━━━━━━━━━━━━━━━━━━━━━━━━━━━━━━━━━━━━━━\u001b[0m \u001b[32m3.3/3.3 MB\u001b[0m \u001b[31m14.4 MB/s\u001b[0m eta \u001b[36m0:00:00\u001b[0m\n",
            "\u001b[?25hInstalling collected packages: nvidia-nvjitlink-cu12, nvidia-curand-cu12, nvidia-cufft-cu12, nvidia-cuda-runtime-cu12, nvidia-cuda-nvrtc-cu12, nvidia-cuda-cupti-cu12, nvidia-cublas-cu12, biopython, nvidia-cusparse-cu12, nvidia-cudnn-cu12, nvidia-cusolver-cu12, dscript\n",
            "  Attempting uninstall: nvidia-nvjitlink-cu12\n",
            "    Found existing installation: nvidia-nvjitlink-cu12 12.5.82\n",
            "    Uninstalling nvidia-nvjitlink-cu12-12.5.82:\n",
            "      Successfully uninstalled nvidia-nvjitlink-cu12-12.5.82\n",
            "  Attempting uninstall: nvidia-curand-cu12\n",
            "    Found existing installation: nvidia-curand-cu12 10.3.6.82\n",
            "    Uninstalling nvidia-curand-cu12-10.3.6.82:\n",
            "      Successfully uninstalled nvidia-curand-cu12-10.3.6.82\n",
            "  Attempting uninstall: nvidia-cufft-cu12\n",
            "    Found existing installation: nvidia-cufft-cu12 11.2.3.61\n",
            "    Uninstalling nvidia-cufft-cu12-11.2.3.61:\n",
            "      Successfully uninstalled nvidia-cufft-cu12-11.2.3.61\n",
            "  Attempting uninstall: nvidia-cuda-runtime-cu12\n",
            "    Found existing installation: nvidia-cuda-runtime-cu12 12.5.82\n",
            "    Uninstalling nvidia-cuda-runtime-cu12-12.5.82:\n",
            "      Successfully uninstalled nvidia-cuda-runtime-cu12-12.5.82\n",
            "  Attempting uninstall: nvidia-cuda-nvrtc-cu12\n",
            "    Found existing installation: nvidia-cuda-nvrtc-cu12 12.5.82\n",
            "    Uninstalling nvidia-cuda-nvrtc-cu12-12.5.82:\n",
            "      Successfully uninstalled nvidia-cuda-nvrtc-cu12-12.5.82\n",
            "  Attempting uninstall: nvidia-cuda-cupti-cu12\n",
            "    Found existing installation: nvidia-cuda-cupti-cu12 12.5.82\n",
            "    Uninstalling nvidia-cuda-cupti-cu12-12.5.82:\n",
            "      Successfully uninstalled nvidia-cuda-cupti-cu12-12.5.82\n",
            "  Attempting uninstall: nvidia-cublas-cu12\n",
            "    Found existing installation: nvidia-cublas-cu12 12.5.3.2\n",
            "    Uninstalling nvidia-cublas-cu12-12.5.3.2:\n",
            "      Successfully uninstalled nvidia-cublas-cu12-12.5.3.2\n",
            "  Attempting uninstall: nvidia-cusparse-cu12\n",
            "    Found existing installation: nvidia-cusparse-cu12 12.5.1.3\n",
            "    Uninstalling nvidia-cusparse-cu12-12.5.1.3:\n",
            "      Successfully uninstalled nvidia-cusparse-cu12-12.5.1.3\n",
            "  Attempting uninstall: nvidia-cudnn-cu12\n",
            "    Found existing installation: nvidia-cudnn-cu12 9.3.0.75\n",
            "    Uninstalling nvidia-cudnn-cu12-9.3.0.75:\n",
            "      Successfully uninstalled nvidia-cudnn-cu12-9.3.0.75\n",
            "  Attempting uninstall: nvidia-cusolver-cu12\n",
            "    Found existing installation: nvidia-cusolver-cu12 11.6.3.83\n",
            "    Uninstalling nvidia-cusolver-cu12-11.6.3.83:\n",
            "      Successfully uninstalled nvidia-cusolver-cu12-11.6.3.83\n",
            "Successfully installed biopython-1.85 dscript-0.2.8 nvidia-cublas-cu12-12.4.5.8 nvidia-cuda-cupti-cu12-12.4.127 nvidia-cuda-nvrtc-cu12-12.4.127 nvidia-cuda-runtime-cu12-12.4.127 nvidia-cudnn-cu12-9.1.0.70 nvidia-cufft-cu12-11.2.1.3 nvidia-curand-cu12-10.3.5.147 nvidia-cusolver-cu12-11.6.1.9 nvidia-cusparse-cu12-12.3.1.170 nvidia-nvjitlink-cu12-12.4.127\n"
          ]
        }
      ]
    },
    {
      "cell_type": "code",
      "source": [
        "!mkdir structures_3di/"
      ],
      "metadata": {
        "id": "BO_SWt1BwRyC",
        "colab": {
          "base_uri": "https://localhost:8080/"
        },
        "outputId": "53891039-0c25-4bcb-943f-e4405022cc99"
      },
      "execution_count": null,
      "outputs": [
        {
          "output_type": "stream",
          "name": "stdout",
          "text": [
            "mkdir: cannot create directory ‘Foldseek_3di/’: File exists\n"
          ]
        }
      ]
    },
    {
      "cell_type": "code",
      "source": [
        "!dscript extract-3di /content/data/estructuras/test/  /content/structures_3di/test.fasta  --foldseek_path /content/foldseek/bin/foldseek\n",
        "!dscript extract-3di /content/data/estructuras/val/  /content/structures_3di/val.fasta  --foldseek_path /content/foldseek/bin/foldseek"
      ],
      "metadata": {
        "colab": {
          "base_uri": "https://localhost:8080/"
        },
        "id": "oLRTUbOGnfvb",
        "outputId": "bb265792-f64b-4de1-f857-7fe9d21bf5bb"
      },
      "execution_count": null,
      "outputs": [
        {
          "output_type": "stream",
          "name": "stdout",
          "text": [
            "[2025-05-02-18:47:40] /content/foldseek/bin/foldseek createdb /content/data/estructuras/test/Q5SL52.pdb /content/data/estructuras/test/P0A6C1.pdb /content/data/estructuras/test/Q72IL3.pdb /content/data/estructuras/test/Q568D7.pdb /content/data/estructuras/test/Q6L1Q5.pdb /content/data/estructuras/test/Q09509.pdb /content/data/estructuras/test/F4JZC2.pdb /content/data/estructuras/test/Q9XWJ8.pdb /content/data/estructuras/test/P76121.pdb /content/data/estructuras/test/Q9V6G5.pdb /content/data/estructuras/test/A0A0K2H597.pdb /content/data/estructuras/test/Q7DLR9.pdb /content/data/estructuras/test/Q5SKW6.pdb /content/data/estructuras/test/A3KQK3.pdb /content/data/estructuras/test/P50263.pdb /content/data/estructuras/test/Q9VE86.pdb /content/data/estructuras/test/Q72HF0.pdb /content/data/estructuras/test/Q72J13.pdb /content/data/estructuras/test/Q72IA8.pdb /content/data/estructuras/test/B3GWD5.pdb /content/data/estructuras/test/A0A0K2H599.pdb /content/data/estructuras/test/A0A0K2HCK1.pdb /content/data/estructuras/test/Q72KA2.pdb /content/data/estructuras/test/O01606.pdb /content/data/estructuras/test/Q53VY2.pdb /content/data/estructuras/test/Q5XJ88.pdb /content/data/estructuras/test/Q5SM42.pdb /content/data/estructuras/test/Q53WH6.pdb /content/data/estructuras/test/P32386.pdb /content/data/estructuras/test/Q18076.pdb /content/data/estructuras/test/Q17663.pdb /content/data/estructuras/test/Q20363.pdb /content/data/estructuras/test/P69411.pdb /content/data/estructuras/test/Q5SJV5.pdb /content/data/estructuras/test/Q72LA2.pdb /content/data/estructuras/test/Q72HW1.pdb /content/data/estructuras/test/A0A0K2H7S5.pdb /content/data/estructuras/test/Q72JG2.pdb /content/data/estructuras/test/A0A0K2H6X7.pdb /content/data/estructuras/test/A1IH00.pdb /content/data/estructuras/test/Q9GYR2.pdb /content/data/estructuras/test/Q72LB6.pdb /content/data/estructuras/test/A0A0K2H7D8.pdb /content/data/estructuras/test/Q93168.pdb /content/data/estructuras/test/O76463.pdb /content/data/estructuras/test/Q5SIJ6.pdb /content/data/estructuras/test/A0A140LGI7.pdb /content/data/estructuras/test/Q72J90.pdb /content/data/estructuras/test/Q5U3F7.pdb /content/data/estructuras/test/A0A0K2HAM3.pdb /content/data/estructuras/test/A2A8Y5.pdb /content/data/estructuras/test/Q9XTQ5.pdb /content/data/estructuras/test/Q09389.pdb /content/data/estructuras/test/A0A0K3ASC5.pdb /content/data/estructuras/test/Q72JE2.pdb /content/data/estructuras/test/O61219.pdb /content/data/estructuras/test/P91182.pdb /content/data/estructuras/test/Q5SKV1.pdb /content/data/estructuras/test/P0AAC8.pdb /content/data/estructuras/test/Q6L0L1.pdb /content/data/estructuras/test/P0A8X2.pdb /content/data/estructuras/test/A2ACZ1.pdb /content/data/estructuras/test/Q72HP4.pdb /content/data/estructuras/test/Q20436.pdb /content/data/estructuras/test/Q5SJN4.pdb /content/data/estructuras/test/Q03018.pdb /content/data/estructuras/test/Q72I62.pdb /content/data/estructuras/test/Q09374.pdb /content/data/estructuras/test/A0A0U1RNL1.pdb /content/data/estructuras/test/O44566.pdb /content/data/estructuras/test/Q53WD8.pdb /content/data/estructuras/test/Q01477.pdb /content/data/estructuras/test/X1WFF1.pdb /content/data/estructuras/test/H2KZ95.pdb /content/data/estructuras/test/P43598.pdb /content/data/estructuras/test/F1QTW8.pdb /content/data/estructuras/test/Q72HT1.pdb /content/data/estructuras/test/A0A140LJA4.pdb /content/data/estructuras/test/Q53W08.pdb /content/data/estructuras/test/Q72KU0.pdb /content/data/estructuras/test/P24232.pdb /content/data/estructuras/test/O60200.pdb /content/data/estructuras/test/Q9V877.pdb /content/data/estructuras/test/G5EC23.pdb /content/data/estructuras/test/Q8KPZ1.pdb /content/data/estructuras/test/E9QIZ1.pdb /content/data/estructuras/test/B7WN92.pdb /content/data/estructuras/test/P0AB28.pdb /content/data/estructuras/test/Q72KA3.pdb /content/data/estructuras/test/Q6DGS1.pdb /content/data/estructuras/test/Q06211.pdb /content/data/estructuras/test/G5EC56.pdb /content/data/estructuras/test/A0A0K2H785.pdb /content/data/estructuras/test/P0A6L9.pdb /content/data/estructuras/test/Q72HD6.pdb /content/data/estructuras/test/Q5SJM9.pdb /content/data/estructuras/test/P01215.pdb /content/data/estructuras/test/Q5SKH4.pdb /content/data/estructuras/test/Q5SMD5.pdb /content/data/estructuras/test/P64451.pdb /content/data/estructuras/test/P0AF96.pdb /content/data/estructuras/test/Q5SK96.pdb /content/data/estructuras/test/Q5SM85.pdb /content/data/estructuras/test/Q20697.pdb /content/data/estructuras/test/G5E8U6.pdb /content/data/estructuras/test/Q72KV8.pdb /content/data/estructuras/test/Q8LD27.pdb /content/data/estructuras/test/O17731.pdb /content/data/estructuras/test/A0A0K2H6J8.pdb /content/data/estructuras/test/Q04066.pdb /content/data/estructuras/test/Q9N3Q8.pdb /content/data/estructuras/test/Q5SLW7.pdb /content/data/estructuras/test/B7ZV28.pdb /content/data/estructuras/test/Q9LRJ9.pdb /content/data/estructuras/test/Q6L1A8.pdb /content/data/estructuras/test/Q10925.pdb /content/data/estructuras/test/Q9U384.pdb /content/data/estructuras/test/Q95Y58.pdb /content/data/estructuras/test/Q6KZU7.pdb /content/data/estructuras/test/Q746D3.pdb /content/data/estructuras/test/O45569.pdb /content/data/estructuras/test/Q20992.pdb /content/data/estructuras/test/Q940H8.pdb /content/data/estructuras/test/Q6L225.pdb /content/data/estructuras/test/P34217.pdb /content/data/estructuras/test/Q72LC4.pdb /content/data/estructuras/test/Q8RQU3.pdb /content/data/estructuras/test/Q07729.pdb /content/data/estructuras/test/Q72LE9.pdb /content/data/estructuras/test/Q8C708.pdb /content/data/estructuras/test/G5E8S0.pdb /content/data/estructuras/test/Q746E3.pdb /content/data/estructuras/test/P53566.pdb /content/data/estructuras/test/P48514.pdb /content/data/estructuras/test/Q72L24.pdb /content/data/estructuras/test/G5EBS1.pdb /content/data/estructuras/test/Q9N4N4.pdb /content/data/estructuras/test/Q9TYW7.pdb /content/data/estructuras/test/Q9U2W9.pdb /content/data/estructuras/test/A0A1D5NSU5.pdb /content/data/estructuras/test/P25385.pdb /content/data/estructuras/test/Q7YXC4.pdb /content/data/estructuras/test/G5EDS8.pdb /content/data/estructuras/test/Q72H17.pdb /content/data/estructuras/test/P40159.pdb /content/data/estructuras/test/P32190.pdb /content/data/estructuras/test/Q568T7.pdb /content/data/estructuras/test/Q746K1.pdb /content/data/estructuras/test/Q53WF6.pdb /content/data/estructuras/test/Q72HU2.pdb /content/data/estructuras/test/P14907.pdb /content/data/estructuras/test/Q9BI82.pdb /content/data/estructuras/test/Q9LMU2.pdb /content/data/estructuras/test/P38331.pdb /content/data/estructuras/test/Q9VI82.pdb /content/data/estructuras/test/Q8GR83.pdb /content/data/estructuras/test/Q72JU7.pdb /content/data/estructuras/test/Q72I40.pdb /content/data/estructuras/test/Q53VT9.pdb /content/data/estructuras/test/Q745U7.pdb /content/data/estructuras/test/O87197.pdb /content/data/estructuras/test/A0A0K2H4T3.pdb /content/data/estructuras/test/O01510.pdb /content/data/estructuras/test/A0A0K2H820.pdb /content/data/estructuras/test/B3P8M3.pdb /content/data/estructuras/test/O49195.pdb /content/data/estructuras/test/Q746I9.pdb /content/data/estructuras/test/Q8VZC7.pdb /content/data/estructuras/test/P45464.pdb /content/data/estructuras/test/P0A9H9.pdb /content/data/estructuras/test/P34703.pdb /content/data/estructuras/test/P11927.pdb /content/data/estructuras/test/Q72JY9.pdb /content/data/estructuras/test/Q53WH8.pdb /content/data/estructuras/test/Q9BL99.pdb /content/data/estructuras/test/Q5SKJ5.pdb /content/data/estructuras/test/Q9N4P3.pdb /content/data/estructuras/test/P32177.pdb /content/data/estructuras/test/Q9XV44.pdb /content/data/estructuras/test/Q5SL07.pdb /content/data/estructuras/test/Q5SL60.pdb /content/data/estructuras/test/Q9DFG4.pdb /content/data/estructuras/test/Q72KV5.pdb /content/data/estructuras/test/C5J7W5.pdb /content/data/estructuras/test/Q5D862.pdb /content/data/estructuras/test/Q72HR7.pdb /content/data/estructuras/test/Q6KZX7.pdb /content/data/estructuras/test/P32607.pdb /content/data/estructuras/test/H7BWZ1.pdb /content/data/estructuras/test/Q72LQ4.pdb /content/data/estructuras/test/Q8BJ05.pdb /content/data/estructuras/test/Q5VKT6.pdb /content/data/estructuras/test/A3FPI6.pdb /content/data/estructuras/test/Q5SM61.pdb /content/data/estructuras/test/P35193.pdb /content/data/estructuras/test/Q9XUT0.pdb /content/data/estructuras/test/Q22712.pdb /content/data/estructuras/test/Q5SK30.pdb /content/data/estructuras/test/G3UW46.pdb /content/data/estructuras/test/Q05580.pdb /content/data/estructuras/test/Q72KP1.pdb /content/data/estructuras/test/Q06580.pdb /content/data/estructuras/test/P37329.pdb /content/data/estructuras/test/Q8VRL3.pdb /content/data/estructuras/test/P67143.pdb /content/data/estructuras/test/E7F4T4.pdb /content/data/estructuras/test/Q9BL64.pdb /content/data/estructuras/test/P0AFH8.pdb /content/data/estructuras/test/Q72JF3.pdb /content/data/estructuras/test/Q95YA9.pdb /content/data/estructuras/test/Q6L083.pdb /content/data/estructuras/test/Q94C77.pdb /content/data/estructuras/test/Q9V3C1.pdb /content/data/estructuras/test/A0A0K2HCU8.pdb /content/data/estructuras/test/Q746F4.pdb /content/data/estructuras/test/Q20329.pdb /content/data/estructuras/test/Q8VD31.pdb /content/data/estructuras/test/Q3U260.pdb /content/data/estructuras/test/A0A0K2H966.pdb /content/data/estructuras/test/Q72GW9.pdb /content/data/estructuras/test/H0WF81.pdb /content/data/estructuras/test/P33644.pdb /content/data/estructuras/test/Q3UV88.pdb /content/data/estructuras/test/A0A0K2H4Y0.pdb /content/data/estructuras/test/Q5SJP6.pdb /content/data/estructuras/test/P0ABA0.pdb /content/data/estructuras/test/Q745Y4.pdb /content/data/estructuras/test/Q965S8.pdb /content/data/estructuras/test/Q72JR1.pdb /content/data/estructuras/test/Q9XVT1.pdb /content/data/estructuras/test/Q18994.pdb /content/data/estructuras/test/A3KP70.pdb /content/data/estructuras/test/Q17872.pdb /content/data/estructuras/test/Q5SLL1.pdb /content/data/estructuras/test/Q72GH0.pdb /content/data/estructuras/test/Q746E4.pdb /content/data/estructuras/test/O17264.pdb /content/data/estructuras/test/Q72J67.pdb /content/data/estructuras/test/Q72HC7.pdb /content/data/estructuras/test/Q9W1F4.pdb /content/data/estructuras/test/Q72KX8.pdb /content/data/estructuras/test/A2BIJ2.pdb /content/data/estructuras/test/Q18784.pdb /content/data/estructuras/test/Q72KR7.pdb /content/data/estructuras/test/A0A0K2HC18.pdb /content/data/estructuras/test/X5LX81.pdb /content/data/estructuras/test/Q72HC8.pdb /content/data/estructuras/test/Q08BY7.pdb /content/data/estructuras/test/O16406.pdb /content/data/estructuras/test/Q1XID4.pdb /content/data/estructuras/test/Q9CTG6.pdb /content/data/estructuras/test/V5Z1T2.pdb /content/data/estructuras/test/Q72JZ1.pdb /content/data/estructuras/test/Q23194.pdb /content/data/estructuras/test/Q08412.pdb /content/data/estructuras/test/P53191.pdb /content/data/estructuras/test/P55771.pdb /content/data/estructuras/test/P0AFW8.pdb /content/data/estructuras/test/P53725.pdb /content/data/estructuras/test/O17606.pdb /content/data/estructuras/test/Q72L54.pdb /content/data/estructuras/test/Q9BL48.pdb /content/data/estructuras/test/Q3TEQ8.pdb /content/data/estructuras/test/Q23383.pdb /content/data/estructuras/test/Q72KY1.pdb /content/data/estructuras/test/Q93791.pdb /content/data/estructuras/test/Q72IJ3.pdb /content/data/estructuras/test/A2BE93.pdb /content/data/estructuras/test/G5EG83.pdb /content/data/estructuras/test/Q6AHN9.pdb /content/data/estructuras/test/Q61559.pdb /content/data/estructuras/test/Q5SI21.pdb /content/data/estructuras/test/P0A9W6.pdb /content/data/estructuras/test/G5E8W9.pdb /content/data/estructuras/test/Q5XJQ6.pdb /content/data/estructuras/test/P96077.pdb /content/data/estructuras/test/F1QNW1.pdb /content/data/estructuras/test/P77667.pdb /content/data/estructuras/test/Q72K62.pdb /content/data/estructuras/test/P61457.pdb /content/data/estructuras/test/Q6L1E0.pdb /content/data/estructuras/test/Q72LI7.pdb /content/data/estructuras/test/Q53WH9.pdb /content/data/estructuras/test/G3UZ60.pdb /content/data/estructuras/test/Q46893.pdb /content/data/estructuras/test/P42000.pdb /content/data/estructuras/test/Q72IS1.pdb /content/data/estructuras/test/P0A6V5.pdb /content/data/estructuras/test/Q5SGV8.pdb /content/data/estructuras/test/Q564V6.pdb /content/data/estructuras/test/O04309.pdb /content/data/estructuras/test/Q5SIP2.pdb /content/data/estructuras/test/Q9UAS6.pdb /content/data/estructuras/test/Q72IU9.pdb /content/data/estructuras/test/Q9N589.pdb /content/data/estructuras/test/Q17750.pdb /content/data/estructuras/test/F5GZ54.pdb /content/data/estructuras/test/F8W2U2.pdb /content/data/estructuras/test/P37325.pdb /content/data/estructuras/test/Q72GB2.pdb /content/data/estructuras/test/P38069.pdb /content/data/estructuras/test/Q08742.pdb /content/data/estructuras/test/Q72GX8.pdb /content/data/estructuras/test/Q9VIK9.pdb /content/data/estructuras/test/O01826.pdb /content/data/estructuras/test/Q5SIV2.pdb /content/data/estructuras/test/E9QNP0.pdb /content/data/estructuras/test/Q72H27.pdb /content/data/estructuras/test/Q86BS6.pdb /content/data/estructuras/test/Q9VR56.pdb /content/data/estructuras/test/Q9XWZ8.pdb /content/data/estructuras/test/Q5SL61.pdb /content/data/estructuras/test/P34355.pdb /content/data/estructuras/test/Q72GH1.pdb /content/data/estructuras/test/P21363.pdb /content/data/estructuras/test/Q9XXA2.pdb /content/data/estructuras/test/Q6KZH8.pdb /content/data/estructuras/test/Q53WH7.pdb /content/data/estructuras/test/Q17693.pdb /content/data/estructuras/test/Q5SLY7.pdb /content/data/estructuras/test/Q5SJ26.pdb /content/data/estructuras/test/A0A0K2HAN4.pdb /content/data/estructuras/test/Q95Y71.pdb /content/data/estructuras/test/Q8R5K4.pdb /content/data/estructuras/test/Q6WNK7.pdb /content/data/estructuras/test/Q8RWS8.pdb /content/data/estructuras/test/Q545P6.pdb /content/data/estructuras/test/P54904.pdb /content/data/estructuras/test/Q27333.pdb /content/data/estructuras/test/F8VPQ2.pdb /content/data/estructuras/test/E9QGR9.pdb /content/data/estructuras/test/Q5SJV3.pdb /content/data/estructuras/test/A0A0K2H9T2.pdb /content/data/estructuras/test/Q746J3.pdb /content/data/estructuras/test/Q9XW42.pdb /content/data/estructuras/test/Q7KRR5.pdb /content/data/estructuras/test/G5ECR6.pdb /content/data/estructuras/test/Q6L1Q7.pdb /content/data/estructuras/test/Q72HL7.pdb /content/data/estructuras/test/Q72KN1.pdb /content/data/estructuras/test/Q72GL7.pdb /content/data/estructuras/test/Q21504.pdb /content/data/estructuras/test/A2RRV5.pdb /content/data/estructuras/test/Q72L70.pdb /content/data/estructuras/test/Q6L1M5.pdb /content/data/estructuras/test/Q21407.pdb /content/data/estructuras/test/Q8VZC3.pdb /content/data/estructuras/test/Q72J04.pdb /content/data/estructuras/test/Q9SZ63.pdb /content/data/estructuras/test/Q72J43.pdb /content/data/estructuras/test/B7WN71.pdb /content/data/estructuras/test/B2RRR9.pdb /content/data/estructuras/test/P0A921.pdb /content/data/estructuras/test/Q72KE1.pdb /content/data/estructuras/test/Q6KZK2.pdb /content/data/estructuras/test/G5EC10.pdb /content/data/estructuras/test/F3Y5R0.pdb /content/data/estructuras/test/Q5SKY1.pdb /content/data/estructuras/test/P0A6E6.pdb /content/data/estructuras/test/P76575.pdb /content/data/estructuras/test/E7F2X0.pdb /content/data/estructuras/test/Q72H51.pdb /content/data/estructuras/test/Q72H61.pdb /content/data/estructuras/test/B2GRL9.pdb /content/data/estructuras/test/Q72GP4.pdb /content/data/estructuras/test/Q72KM6.pdb /content/data/estructuras/test/Q72IY2.pdb /content/data/estructuras/test/P0AEG4.pdb /content/data/estructuras/test/Q06815.pdb /content/data/estructuras/test/Q5SKI8.pdb /content/data/estructuras/test/Q09219.pdb /content/data/estructuras/test/Q7JPI2.pdb /content/data/estructuras/test/P38175.pdb /content/data/estructuras/test/E7F090.pdb /content/data/estructuras/test/Q5SL46.pdb /content/data/estructuras/test/Q72HK5.pdb /content/data/estructuras/test/Q9XUT5.pdb /content/data/estructuras/test/Q72KR1.pdb /content/data/estructuras/test/A9QY30.pdb /content/data/estructuras/test/E7F2W9.pdb /content/data/estructuras/test/P0AF70.pdb /content/data/estructuras/test/P40060.pdb /content/data/estructuras/test/Q11183.pdb /content/data/estructuras/test/P35872.pdb /content/data/estructuras/test/Q72KY3.pdb /content/data/estructuras/test/Q6TEN7.pdb /content/data/estructuras/test/A5JYW9.pdb /content/data/estructuras/test/Q5SIA7.pdb /content/data/estructuras/test/Q72GG2.pdb /content/data/estructuras/test/Q08BA2.pdb /content/data/estructuras/test/Q9X9D5.pdb /content/data/estructuras/test/E9Q6Z3.pdb /content/data/estructuras/test/Q9F0S9.pdb /content/data/estructuras/test/Q4QQK5.pdb /content/data/estructuras/test/B2GRA4.pdb /content/data/estructuras/test/Q01519.pdb /content/data/estructuras/test/P51024.pdb /content/data/estructuras/test/Q680A5.pdb /content/data/estructuras/test/Q76G20.pdb /content/data/estructuras/test/Q9GQN5.pdb /content/data/estructuras/test/Q72J47.pdb /content/data/estructuras/test/P68082.pdb /content/data/estructuras/test/Q5SL65.pdb /content/data/estructuras/test/P0DJF2.pdb /content/data/estructuras/test/Q72HQ7.pdb /content/data/estructuras/test/A0A0K2HC89.pdb /content/data/estructuras/test/Q746E5.pdb /content/data/estructuras/test/Q94173.pdb /content/data/estructuras/test/Q53W35.pdb /content/data/estructuras/test/Q72JE4.pdb /content/data/estructuras/test/E7FE19.pdb /content/data/estructuras/test/Q95ZJ9.pdb /content/data/estructuras/test/Q72K69.pdb /content/data/estructuras/test/Q9BL94.pdb /content/data/estructuras/test/Q53WE1.pdb /content/data/estructuras/test/Q86MP4.pdb /content/data/estructuras/test/O01969.pdb /content/data/estructuras/test/Q22918.pdb /content/data/estructuras/test/F1Q7P7.pdb /content/data/estructuras/test/Q72KP8.pdb /content/data/estructuras/test/Q72K49.pdb /content/data/estructuras/test/Q72KC9.pdb /content/data/estructuras/test/B0QZM5.pdb /content/data/estructuras/test/Q746M9.pdb /content/data/estructuras/test/P38221.pdb /content/data/estructuras/test/A0A0K2H776.pdb /content/data/estructuras/test/Q8BGT0.pdb /content/data/estructuras/test/A0A0R4IN79.pdb /content/data/estructuras/test/Q72KZ1.pdb /content/data/estructuras/test/F2Z470.pdb /content/data/estructuras/test/A0A0R4IBL2.pdb /content/data/estructuras/test/P38875.pdb /content/data/estructuras/test/Q803L4.pdb /content/data/estructuras/test/Q72KC4.pdb /content/data/estructuras/test/Q72KV3.pdb /content/data/estructuras/test/Q53WI4.pdb /content/data/estructuras/test/Q6L2K7.pdb /content/data/estructuras/test/P39721.pdb /content/data/estructuras/test/Q53W23.pdb /content/data/estructuras/test/Q6L088.pdb /content/data/estructuras/test/P0AF28.pdb /content/data/estructuras/test/Q23318.pdb /content/data/estructuras/test/Q9XXI6.pdb /content/data/estructuras/test/F1QF60.pdb /content/data/estructuras/test/A0A0K2H571.pdb /content/data/estructuras/test/P91276.pdb /content/data/estructuras/test/Q745V3.pdb /content/data/estructuras/test/Q0P3W4.pdb /content/data/estructuras/test/A0A0R4IH57.pdb /content/data/estructuras/test/P47093.pdb /content/data/estructuras/test/Q11189.pdb /content/data/estructuras/test/P69380.pdb /content/data/estructuras/test/Q746H8.pdb /content/data/estructuras/test/Q9XVN8.pdb /content/data/estructuras/test/Q9N412.pdb /content/data/estructuras/test/R4GE02.pdb /content/data/estructuras/test/P0A7U7.pdb /content/data/estructuras/test/Q08BR9.pdb /content/data/estructuras/test/P40466.pdb /content/data/estructuras/test/Q53WG0.pdb /content/data/estructuras/test/Q5SKC4.pdb /content/data/estructuras/test/A0A0K2H7F7.pdb /content/data/estructuras/test/H0YCG1.pdb /content/data/estructuras/test/A0A0K2H416.pdb /content/data/estructuras/test/B1H1L4.pdb /content/data/estructuras/test/P40191.pdb /content/data/estructuras/test/A0A0R4IC42.pdb /content/data/estructuras/test/Q5SMC1.pdb /content/data/estructuras/test/X1WBF6.pdb /content/data/estructuras/test/P54786.pdb /content/data/estructuras/test/Q9SK50.pdb /content/data/estructuras/test/Q5SKN0.pdb /content/data/estructuras/test/G5EF77.pdb /content/data/estructuras/test/M1Z882.pdb /content/data/estructuras/test/Q72JX4.pdb /content/data/estructuras/test/Q9CZX9.pdb /content/data/estructuras/test/Q8CG64.pdb /content/data/estructuras/test/Q72IA2.pdb /content/data/estructuras/test/E7EZK3.pdb /content/data/estructuras/test/Q95RR8.pdb /content/data/estructuras/test/Q23227.pdb /content/data/estructuras/test/Q960Z0.pdb /content/data/estructuras/test/P91929.pdb /content/data/estructuras/test/P16451.pdb /content/data/estructuras/test/Q6L2Z8.pdb /content/data/estructuras/test/F1RB66.pdb /content/data/estructuras/test/P65292.pdb /content/data/estructuras/test/P91369.pdb /content/data/estructuras/test/Q19537.pdb /content/data/estructuras/test/P69054.pdb /content/data/estructuras/test/P36561.pdb /content/data/estructuras/test/Q72KN9.pdb /content/data/estructuras/test/A0A0K2H5Z1.pdb /content/data/estructuras/test/Q5SM23.pdb /content/data/estructuras/test/Q6P112.pdb /content/data/estructuras/test/Q72HX4.pdb /content/data/estructuras/test/Q745U6.pdb /content/data/estructuras/test/Q9BKS1.pdb /content/data/estructuras/test/Q9W590.pdb /content/data/estructuras/test/Q4V9R2.pdb /content/data/estructuras/test/Q8RQE7.pdb /content/data/estructuras/test/Q72L21.pdb /content/data/estructuras/test/Q9LZ66.pdb /content/data/estructuras/test/Q5SJR8.pdb /content/data/estructuras/test/Q72GQ9.pdb /content/data/estructuras/test/Q5SLJ8.pdb /content/data/estructuras/test/P61747.pdb /content/data/estructuras/test/P26996.pdb /content/data/estructuras/test/P17890.pdb /content/data/estructuras/test/G5EFS5.pdb /content/data/estructuras/test/F1RDT1.pdb /content/data/estructuras/test/Q72JF5.pdb /content/data/estructuras/test/Q5SKD8.pdb /content/data/estructuras/test/F8WHM0.pdb /content/data/estructuras/test/Q5SHU9.pdb /content/data/estructuras/test/Q23084.pdb /content/data/estructuras/test/Q9XVS8.pdb /content/data/estructuras/test/Q72HK1.pdb /content/data/estructuras/test/Q72KK5.pdb /content/data/estructuras/test/A5JYW3.pdb /content/data/estructuras/test/Q5SK05.pdb /content/data/estructuras/test/Q46871.pdb /content/data/estructuras/test/A0A0K2HAI8.pdb /tmp/tmpheiporoc/6051859677010837138\n",
            "[2025-05-02-18:47:42] 3Di sequences written to /content/Foldseek_3di/3di_sequences.fasta\n"
          ]
        }
      ]
    },
    {
      "cell_type": "code",
      "source": [
        "!dscript extract-3di /content/data/estructuras/train/  /content/structures_3di/train.fasta  --foldseek_path /content/foldseek/bin/foldseek"
      ],
      "metadata": {
        "id": "U2P-Ll_SeXU0"
      },
      "execution_count": null,
      "outputs": []
    },
    {
      "cell_type": "markdown",
      "source": [
        "Forma alternativa de pasar de pdb a 3di usando foldseek directamente\n",
        "\n",
        "\n",
        "```\n",
        "!mkdir test_3di/\n",
        "!/content/foldseek/bin/foldseek createdb /content/data/estructuras/test/ /content/test_3di/queryDB\n",
        "!/content/foldseek/bin/foldseek lndb test_3di/queryDB_h test_3di/queryDB_ss_h\n",
        "!/content/foldseek/bin/foldseek convert2fasta test_3di/queryDB_ss test_3di/queryDB_ss.fasta\n",
        "```\n",
        "\n"
      ],
      "metadata": {
        "id": "tSFejDgmhE3L"
      }
    },
    {
      "cell_type": "code",
      "source": [
        "#pasar de mayuscula a minuscula el archivo fasta de 3Di\n",
        "from Bio import SeqIO\n",
        "\n",
        "input_file = \"/content/structures_3di/test.fasta \"\n",
        "output_file = \"/content/structures_3di/test_3di.fasta \"\n",
        "\n",
        "with open(input_file, \"r\") as infile, open(output_file, \"w\") as outfile:\n",
        "    for record in SeqIO.parse(infile, \"fasta\"):\n",
        "        record.seq = record.seq.lower()\n",
        "        SeqIO.write(record, outfile, \"fasta\")"
      ],
      "metadata": {
        "id": "canFpBXETAql"
      },
      "execution_count": null,
      "outputs": []
    },
    {
      "cell_type": "code",
      "source": [
        "input_file = \"/content/structures_3di/val.fasta \"\n",
        "output_file = \"/content/structures_3di/val_3di.fasta \"\n",
        "\n",
        "with open(input_file, \"r\") as infile, open(output_file, \"w\") as outfile:\n",
        "    for record in SeqIO.parse(infile, \"fasta\"):\n",
        "        record.seq = record.seq.lower()\n",
        "        SeqIO.write(record, outfile, \"fasta\")"
      ],
      "metadata": {
        "id": "1kSHAL38eft_"
      },
      "execution_count": null,
      "outputs": []
    },
    {
      "cell_type": "code",
      "source": [
        "input_file = \"/content/structures_3di/train.fasta \"\n",
        "output_file = \"/content/structures_3di/train_3di.fasta \"\n",
        "\n",
        "with open(input_file, \"r\") as infile, open(output_file, \"w\") as outfile:\n",
        "    for record in SeqIO.parse(infile, \"fasta\"):\n",
        "        record.seq = record.seq.lower()\n",
        "        SeqIO.write(record, outfile, \"fasta\")"
      ],
      "metadata": {
        "id": "hUQb8kjAevuc"
      },
      "execution_count": null,
      "outputs": []
    }
  ]
}